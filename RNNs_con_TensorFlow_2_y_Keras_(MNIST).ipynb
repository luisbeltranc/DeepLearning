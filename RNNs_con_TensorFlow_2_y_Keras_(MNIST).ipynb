{
  "nbformat": 4,
  "nbformat_minor": 0,
  "metadata": {
    "anaconda-cloud": {},
    "kernelspec": {
      "name": "python3",
      "display_name": "Python 3"
    },
    "language_info": {
      "codemirror_mode": {
        "name": "ipython",
        "version": 3
      },
      "file_extension": ".py",
      "mimetype": "text/x-python",
      "name": "python",
      "nbconvert_exporter": "python",
      "pygments_lexer": "ipython3",
      "version": "3.5.4"
    },
    "colab": {
      "name": "RNNs_con_TensorFlow_2_y_Keras_(MNIST).ipynb",
      "provenance": [],
      "collapsed_sections": [],
      "include_colab_link": true
    },
    "accelerator": "GPU"
  },
  "cells": [
    {
      "cell_type": "markdown",
      "metadata": {
        "id": "view-in-github",
        "colab_type": "text"
      },
      "source": [
        "<a href=\"https://colab.research.google.com/github/luisbeltranc/DeepLearning/blob/main/RNNs_con_TensorFlow_2_y_Keras_(MNIST).ipynb\" target=\"_parent\"><img src=\"https://colab.research.google.com/assets/colab-badge.svg\" alt=\"Open In Colab\"/></a>"
      ]
    },
    {
      "cell_type": "markdown",
      "metadata": {
        "id": "VE_2TPCwVjyL"
      },
      "source": [
        "# Redes Neuronales Recurrentes con TensorFlow 2 y Keras\n",
        "\n",
        "En este ejercicio vamos a realizar una primera experimentación con redes neuronales recurrentes usando TensorFlow 2 y Keras."
      ]
    },
    {
      "cell_type": "code",
      "metadata": {
        "id": "JrXE6lhTg2NO"
      },
      "source": [
        "# Seleccionar TF 2 (directiva válida sólo en Colab)\n",
        "# En otros entornos: !pip install tensorflow-gpu==2.0\n",
        "%tensorflow_version 2.x\n",
        "import tensorflow as tf\n",
        "import tensorflow_datasets as tfds\n",
        "from tensorflow import keras\n",
        "assert tf.__version__ >= \"2.0\"\n",
        "\n",
        "import pandas as pd\n",
        "import matplotlib.pyplot as plt\n",
        "import numpy as np\n",
        "\n",
        "# Usaremos un DataFrame de pandas para guardar la información de los experimentos\n",
        "resultados = pd.DataFrame(columns=['modelo', 'num_units', 'num_epochs', 'exactitud (accuracy)'])"
      ],
      "execution_count": 1,
      "outputs": []
    },
    {
      "cell_type": "markdown",
      "metadata": {
        "id": "ao9eiUQZVjyR"
      },
      "source": [
        "## 1. RNN *many-to-one* para clasificación de MNIST\n",
        "\n",
        "Si tratamos cada imagen MNIST de un alto *m* y ancho *n* como una secuencia de *m* vectores de *n* elementos, podemos emplear una red neuronal para predecir su clase, esto es, el dígito que representa.\n",
        "\n",
        "Veamos en primer lugar una implementación muy simple usando Keras.\n"
      ]
    },
    {
      "cell_type": "code",
      "metadata": {
        "id": "KN9z301BT7KT"
      },
      "source": [
        ""
      ],
      "execution_count": 1,
      "outputs": []
    },
    {
      "cell_type": "markdown",
      "metadata": {
        "id": "VQwmtucqVjyT"
      },
      "source": [
        "### 1.1. Cargar el conjunto de datos\n",
        "\n",
        "En primer lugar cargamos el conjunto de datos. En este caso lo haremos usando la librería [`tensorflow_datasets`](https://www.tensorflow.org/datasets/overview), que es una colección de conjuntos de datos listos para ser usados en TensorFlow. El catálogo de conjuntos de conjuntos de datos listos para usar puede consultarse en https://www.tensorflow.org/datasets/catalog/overview\n",
        "\n",
        "`tensorflow_datasets` cumple con las especificaciones del API [`tf.data.Dataset`](https://www.tensorflow.org/guide/data), la cual permite manejar fácilmente y con alto rendimiento pipelines de entrada complejos. Básicamente, `tf.data.Dataset` representa un conjunto de datos potencialmente muy grande y tiene los mecanismos para preprocesarlo y alimentar las entradas de un modelo lote por lote sin cargar todo el dataset en memoria.\n",
        "\n"
      ]
    },
    {
      "cell_type": "code",
      "metadata": {
        "id": "EP0zbEX4a9EZ",
        "colab": {
          "base_uri": "https://localhost:8080/"
        },
        "outputId": "d6c5d90e-5973-4f0e-bf24-1ca7b12ba3ed"
      },
      "source": [
        "!gsutil cat gs://tfds-data/datasets/mnist/3.0.1/image.image.json"
      ],
      "execution_count": 2,
      "outputs": [
        {
          "output_type": "stream",
          "text": [
            "{\"encoding_format\": \"png\", \"shape\": [28, 28, 1]}"
          ],
          "name": "stdout"
        }
      ]
    },
    {
      "cell_type": "code",
      "metadata": {
        "id": "jXXBi4NeikCU"
      },
      "source": [
        "# Cargamos mnist desde tensorflow_datasets\n",
        "dataset, info = tfds.load(name=\"mnist\", as_supervised=True, with_info=True, shuffle_files=False, data_dir=\"gs://tfds-data/datasets\")"
      ],
      "execution_count": 3,
      "outputs": []
    },
    {
      "cell_type": "code",
      "metadata": {
        "id": "JAC5LPJWD83a",
        "colab": {
          "base_uri": "https://localhost:8080/"
        },
        "outputId": "36cf1458-99f5-4bc1-cafe-158f75c7a414"
      },
      "source": [
        "# Ver la información sobre el dataset\n",
        "print(info)"
      ],
      "execution_count": 4,
      "outputs": [
        {
          "output_type": "stream",
          "text": [
            "tfds.core.DatasetInfo(\n",
            "    name='mnist',\n",
            "    version=3.0.1,\n",
            "    description='The MNIST database of handwritten digits.',\n",
            "    homepage='http://yann.lecun.com/exdb/mnist/',\n",
            "    features=FeaturesDict({\n",
            "        'image': Image(shape=(28, 28, 1), dtype=tf.uint8),\n",
            "        'label': ClassLabel(shape=(), dtype=tf.int64, num_classes=10),\n",
            "    }),\n",
            "    total_num_examples=70000,\n",
            "    splits={\n",
            "        'test': 10000,\n",
            "        'train': 60000,\n",
            "    },\n",
            "    supervised_keys=('image', 'label'),\n",
            "    citation=\"\"\"@article{lecun2010mnist,\n",
            "      title={MNIST handwritten digit database},\n",
            "      author={LeCun, Yann and Cortes, Corinna and Burges, CJ},\n",
            "      journal={ATT Labs [Online]. Available: http://yann.lecun.com/exdb/mnist},\n",
            "      volume={2},\n",
            "      year={2010}\n",
            "    }\"\"\",\n",
            "    redistribution_info=,\n",
            ")\n",
            "\n"
          ],
          "name": "stdout"
        }
      ]
    },
    {
      "cell_type": "code",
      "metadata": {
        "id": "uZPg_ZKLyvSo"
      },
      "source": [
        "# Definimos algunas constantes que usaremos en los siguientes modelos\n",
        "\n",
        "# Longitud de las secuencias: cada imagen tiene 28 filas (alto), cada una será un paso en el tiempo\n",
        "NUM_STEPS = IMAGE_HEIGHT = info.features['image'].shape[0]   # 28\n",
        "\n",
        "# Tamaño de cada entrada: cada entrada será una fila de 28 pixeles (ancho)\n",
        "INPUT_SIZE = IMAGE_WIDTH = info.features['image'].shape[1]   # 28\n",
        "\n",
        "# Número de unidades que usaaremos en las unidades ocultas de las RNN\n",
        "NUM_UNITS = 128\n",
        "\n",
        "# Número de clases de salida: 10 dígitos diferentes\n",
        "NUM_CLASSES = info.features['label'].num_classes  # 10"
      ],
      "execution_count": 5,
      "outputs": []
    },
    {
      "cell_type": "code",
      "metadata": {
        "id": "3KVMqx7pSFIX",
        "colab": {
          "base_uri": "https://localhost:8080/"
        },
        "outputId": "330cb7fd-c30b-40e4-f3f9-94410e0d86fd"
      },
      "source": [
        "dataset"
      ],
      "execution_count": 6,
      "outputs": [
        {
          "output_type": "execute_result",
          "data": {
            "text/plain": [
              "{'test': <PrefetchDataset shapes: ((28, 28, 1), ()), types: (tf.uint8, tf.int64)>,\n",
              " 'train': <PrefetchDataset shapes: ((28, 28, 1), ()), types: (tf.uint8, tf.int64)>}"
            ]
          },
          "metadata": {
            "tags": []
          },
          "execution_count": 6
        }
      ]
    },
    {
      "cell_type": "code",
      "metadata": {
        "id": "wb8NiGO2jGAq",
        "colab": {
          "base_uri": "https://localhost:8080/"
        },
        "outputId": "4741fd2d-8eb9-477f-ca30-4f40f38c976e"
      },
      "source": [
        "# dataset[\"train\"], al igual que dataset[\"test\"], es una instancia de la clase tf.data.Dataset\n",
        "# No \"contiene\" los datos, sino que es una clase que permite acceder a ellos.\n",
        "print(isinstance(dataset[\"train\"], tf.data.Dataset))"
      ],
      "execution_count": 7,
      "outputs": [
        {
          "output_type": "stream",
          "text": [
            "True\n"
          ],
          "name": "stdout"
        }
      ]
    },
    {
      "cell_type": "code",
      "metadata": {
        "id": "u0c04QRGwqLZ",
        "colab": {
          "base_uri": "https://localhost:8080/"
        },
        "outputId": "64bb0e07-fb9d-45be-cbc7-39063af68016"
      },
      "source": [
        "# Usando element_spec podemos inspeccionar el tipo y dimensiones de los elementos administrados por el tf.data.Dataset\n",
        "# Dado que cuando hicimos la carga del modelo usamos el argumento \"as_supervised=True\", los elementos están organizados \n",
        "# como un tuple de tensores (features, label), tal cual lo esperará Keras más adelante.\n",
        "dataset[\"train\"].element_spec"
      ],
      "execution_count": 8,
      "outputs": [
        {
          "output_type": "execute_result",
          "data": {
            "text/plain": [
              "(TensorSpec(shape=(28, 28, 1), dtype=tf.uint8, name=None),\n",
              " TensorSpec(shape=(), dtype=tf.int64, name=None))"
            ]
          },
          "metadata": {
            "tags": []
          },
          "execution_count": 8
        }
      ]
    },
    {
      "cell_type": "code",
      "metadata": {
        "id": "C5-xh2xk6yWG"
      },
      "source": [
        "# Escribimos una pequeña función en TensorFlow para preprocesar \n",
        "# las imágenes dentro de tf.data.dataset\n",
        "def preprocess_mnist(image, label):\n",
        "  \"\"\"Convierte una imagen de: shape=(28, 28, 1), dtype=tf.uint8\n",
        "  a: shape=(28, 28), dtype=tf.float32\n",
        "  \"\"\"\n",
        "\n",
        "  # Queremos tratar cada imagen como una secuencia de 28 filas de 28 pixels cada una.\n",
        "  # No necesitamos la última dimensión (1 solo canal de color)\n",
        "  image = tf.squeeze(image, [-1])\n",
        "\n",
        "  # Con convert_image_dtype cambiamos de tf.uint8 a valores tf.float32 en el rango de [0,1]\n",
        "  image = tf.image.convert_image_dtype(image, tf.float32)\n",
        "  \n",
        "  return image, label\n"
      ],
      "execution_count": 9,
      "outputs": []
    },
    {
      "cell_type": "code",
      "metadata": {
        "id": "_-ZoVArrTiNh",
        "colab": {
          "base_uri": "https://localhost:8080/"
        },
        "outputId": "950fa15b-3c7f-4c3e-c6d3-5b9cfc313614"
      },
      "source": [
        "dataset[\"train\"].map(preprocess_mnist).shuffle(10000).element_spec"
      ],
      "execution_count": 10,
      "outputs": [
        {
          "output_type": "execute_result",
          "data": {
            "text/plain": [
              "(TensorSpec(shape=(28, 28), dtype=tf.float32, name=None),\n",
              " TensorSpec(shape=(), dtype=tf.int64, name=None))"
            ]
          },
          "metadata": {
            "tags": []
          },
          "execution_count": 10
        }
      ]
    },
    {
      "cell_type": "code",
      "metadata": {
        "id": "r_6JvbleUXFz",
        "colab": {
          "base_uri": "https://localhost:8080/"
        },
        "outputId": "5648f65d-bfff-4c32-c2fb-949d8449fe97"
      },
      "source": [
        "dataset[\"train\"].map(preprocess_mnist).shuffle(10000).batch(2048).element_spec"
      ],
      "execution_count": 11,
      "outputs": [
        {
          "output_type": "execute_result",
          "data": {
            "text/plain": [
              "(TensorSpec(shape=(None, 28, 28), dtype=tf.float32, name=None),\n",
              " TensorSpec(shape=(None,), dtype=tf.int64, name=None))"
            ]
          },
          "metadata": {
            "tags": []
          },
          "execution_count": 11
        }
      ]
    },
    {
      "cell_type": "code",
      "metadata": {
        "id": "yw9G1V9aUhXJ"
      },
      "source": [
        "# Preparamos nuestro pipeline\n",
        "# .map(preprocess_mnist) -- Convierte las imágenes de (28, 28, 1) a (28, 28) tf.float32 en el rango de [0,1]\n",
        "# .shuffle(10000) -- Cada siguiente ejemplo será tomado aleatoriamente de entre los siguientes 10000 elementos del dataset (que por lo tanto estarán en memoria)\n",
        "# .batch(32) -- A partir de aquí cada \"elemento\" del dataset es un batch de 32 ejemplos\n",
        "# .prefetch(1) -- De manera asíncrona se irá cargando del pipeline el siguiente (1) elemento, para tenerlo listo para la siguiente llamada\n",
        "mnist_train = dataset[\"train\"].map(preprocess_mnist).shuffle(10000).batch(2048).prefetch(1)\n",
        "\n",
        "# Paso a paso:\n",
        "# print('Spec de cada elemento al inicio: ', dataset[\"train\"].element_spec)\n",
        "# mnist_train = dataset[\"train\"].map(preprocess_mnist)\n",
        "# print('Spec de cada elemento después de preprocesamiento: ', mnist_train.element_spec)\n",
        "# mnist_train = mnist_train.shuffle(10000).batch(2048).prefetch(1)\n",
        "# print('Spec final de cada elemento: ', mnist_train.element_spec)"
      ],
      "execution_count": 12,
      "outputs": []
    },
    {
      "cell_type": "code",
      "metadata": {
        "id": "cuNlzNrls4W1",
        "colab": {
          "base_uri": "https://localhost:8080/"
        },
        "outputId": "5c80b359-01cb-4b05-83c2-d0b633566f90"
      },
      "source": [
        "# Recuperemos el conjunto de test completo y guardémoslo en un arreglo numpy\n",
        "# Lo usaremos más adelante para calcular las predicciones\n",
        "for images, labels in dataset[\"test\"].map(preprocess_mnist).batch(10000).take(1):\n",
        "  test_images = images.numpy()\n",
        "  test_labels = labels.numpy()\n",
        "\n",
        "print(test_images.shape, test_labels.shape)"
      ],
      "execution_count": 13,
      "outputs": [
        {
          "output_type": "stream",
          "text": [
            "(10000, 28, 28) (10000,)\n"
          ],
          "name": "stdout"
        }
      ]
    },
    {
      "cell_type": "code",
      "metadata": {
        "id": "Jt40o2essyRo",
        "colab": {
          "base_uri": "https://localhost:8080/",
          "height": 282
        },
        "outputId": "047292ef-8a86-4dab-a6c8-10fd8e57f1bf"
      },
      "source": [
        "# Mostremos la primera imagen del conjunto de pruebas\n",
        "IMAGE_INDEX = 0\n",
        "plt.imshow(test_images[IMAGE_INDEX].astype(np.float32), cmap=plt.get_cmap(\"gray\"))\n",
        "print(\"Label :\", test_labels[IMAGE_INDEX])"
      ],
      "execution_count": 14,
      "outputs": [
        {
          "output_type": "stream",
          "text": [
            "Label : 2\n"
          ],
          "name": "stdout"
        },
        {
          "output_type": "display_data",
          "data": {
            "image/png": "[encoded data removed]",
            "text/plain": [
              "<Figure size 432x288 with 1 Axes>"
            ]
          },
          "metadata": {
            "tags": [],
            "needs_background": "light"
          }
        }
      ]
    },
    {
      "cell_type": "markdown",
      "metadata": {
        "id": "MIvRFmcg5U95"
      },
      "source": [
        "### 1.2. Crear y entrenar una RNN simple con Keras\n"
      ]
    },
    {
      "cell_type": "code",
      "metadata": {
        "id": "07pkBoTBvezO",
        "colab": {
          "base_uri": "https://localhost:8080/"
        },
        "outputId": "115455f6-ed62-4284-f285-d991bcccb105"
      },
      "source": [
        "# Definamos el modelo usando el API Secuencial de Keras (una capa apilada sobre otra)\n",
        "\n",
        "# model = tf.keras.models.Sequential([\n",
        "#       keras.layers.SimpleRNN(NUM_UNITS, input_shape=(NUM_STEPS, INPUT_SIZE)),\n",
        "#       keras.layers.Dense(NUM_CLASSES, activation='softmax')\n",
        "# ])\n",
        "\n",
        "# model.summary()\n",
        "\n",
        "\n",
        "# O usando el API Funcional de Keras (permite grafos más complejos)\n",
        "\n",
        "inputs  = keras.Input(shape=(NUM_STEPS, INPUT_SIZE))\n",
        "x = keras.layers.SimpleRNN(NUM_UNITS)(inputs)\n",
        "outputs = keras.layers.Dense(NUM_CLASSES, activation='softmax')(x)\n",
        "\n",
        "model = keras.Model(inputs=inputs, outputs=outputs)\n",
        "\n",
        "model.summary()"
      ],
      "execution_count": 15,
      "outputs": [
        {
          "output_type": "stream",
          "text": [
            "Model: \"functional_1\"\n",
            "_________________________________________________________________\n",
            "Layer (type)                 Output Shape              Param #   \n",
            "=================================================================\n",
            "input_1 (InputLayer)         [(None, 28, 28)]          0         \n",
            "_________________________________________________________________\n",
            "simple_rnn (SimpleRNN)       (None, 128)               20096     \n",
            "_________________________________________________________________\n",
            "dense (Dense)                (None, 10)                1290      \n",
            "=================================================================\n",
            "Total params: 21,386\n",
            "Trainable params: 21,386\n",
            "Non-trainable params: 0\n",
            "_________________________________________________________________\n"
          ],
          "name": "stdout"
        }
      ]
    },
    {
      "cell_type": "code",
      "metadata": {
        "id": "Czd029ji5W6n",
        "colab": {
          "base_uri": "https://localhost:8080/",
          "height": 250
        },
        "outputId": "e9484c71-8e99-450c-f5b9-ae6d465e20b3"
      },
      "source": [
        "# Compilamos y entrenamos el modelo\n",
        "NUM_EPOCHS = 5\n",
        "model.compile(loss='sparse_categorical_crossentropy',\n",
        "              metrics=['accuracy'], optimizer='adam')\n",
        "history = model.fit(mnist_train, epochs=NUM_EPOCHS)\n",
        "\n",
        "# Evaluamos y guardamos los resultados\n",
        "loss, accuracy = model.evaluate(test_images, test_labels, verbose=0)\n",
        "# model.evaluate también acepta como entrada un tf.data.Dataset\n",
        "# loss, accuracy = model.evaluate(mnist_test.map(preprocess_mnist).batch(10000))\n",
        "\n",
        "resultados = resultados.append({\n",
        "    'modelo': 'RNN simple, many-to-one -- keras.layers.SimpleRNN',\n",
        "    'num_units': NUM_UNITS,\n",
        "    'num_epochs': NUM_EPOCHS,\n",
        "    'exactitud (accuracy)': accuracy\n",
        "}, ignore_index=True)\n",
        "resultados"
      ],
      "execution_count": 16,
      "outputs": [
        {
          "output_type": "stream",
          "text": [
            "Epoch 1/5\n",
            "30/30 [==============================] - 6s 198ms/step - loss: 1.3394 - accuracy: 0.5757\n",
            "Epoch 2/5\n",
            "30/30 [==============================] - 2s 63ms/step - loss: 0.6012 - accuracy: 0.8200\n",
            "Epoch 3/5\n",
            "30/30 [==============================] - 2s 63ms/step - loss: 0.3669 - accuracy: 0.8941\n",
            "Epoch 4/5\n",
            "30/30 [==============================] - 2s 61ms/step - loss: 0.2797 - accuracy: 0.9182\n",
            "Epoch 5/5\n",
            "30/30 [==============================] - 2s 63ms/step - loss: 0.2350 - accuracy: 0.9313\n"
          ],
          "name": "stdout"
        },
        {
          "output_type": "execute_result",
          "data": {
            "text/html": [
              "<div>\n",
              "<style scoped>\n",
              "    .dataframe tbody tr th:only-of-type {\n",
              "        vertical-align: middle;\n",
              "    }\n",
              "\n",
              "    .dataframe tbody tr th {\n",
              "        vertical-align: top;\n",
              "    }\n",
              "\n",
              "    .dataframe thead th {\n",
              "        text-align: right;\n",
              "    }\n",
              "</style>\n",
              "<table border=\"1\" class=\"dataframe\">\n",
              "  <thead>\n",
              "    <tr style=\"text-align: right;\">\n",
              "      <th></th>\n",
              "      <th>modelo</th>\n",
              "      <th>num_units</th>\n",
              "      <th>num_epochs</th>\n",
              "      <th>exactitud (accuracy)</th>\n",
              "    </tr>\n",
              "  </thead>\n",
              "  <tbody>\n",
              "    <tr>\n",
              "      <th>0</th>\n",
              "      <td>RNN simple, many-to-one -- keras.layers.SimpleRNN</td>\n",
              "      <td>128</td>\n",
              "      <td>5</td>\n",
              "      <td>0.9342</td>\n",
              "    </tr>\n",
              "  </tbody>\n",
              "</table>\n",
              "</div>"
            ],
            "text/plain": [
              "                                              modelo  ... exactitud (accuracy)\n",
              "0  RNN simple, many-to-one -- keras.layers.SimpleRNN  ...               0.9342\n",
              "\n",
              "[1 rows x 4 columns]"
            ]
          },
          "metadata": {
            "tags": []
          },
          "execution_count": 16
        }
      ]
    },
    {
      "cell_type": "code",
      "metadata": {
        "id": "Fa3IATTppKds",
        "colab": {
          "base_uri": "https://localhost:8080/"
        },
        "outputId": "12fea332-7f87-42e8-9396-9c81b7d721ce"
      },
      "source": [
        "# Grabemos el modelo y los resultados\n",
        "model.save('saved_model/rnn_many_to_one')\n",
        "\n",
        "# Si queremos podemos verificar lo que se ha grabado...\n",
        "# !ls -alh saved_model\n",
        "# !ls -alh saved_model/rnn_many_to_many_2_capas\n",
        "\n",
        "# ...o cargarlo nuevamente a memoria\n",
        "# new_model = tf.keras.models.load_model('saved_model/rnn_many_to_one')\n",
        "# new_model.summary()\n",
        "\n",
        "# Grabemos los resultados\n",
        "resultados.to_excel('resultados.xlsx', index=False)\n",
        "\n",
        "# Para leer nuevamente:\n",
        "# resultados = pd.read_excel('resultados.xlsx')"
      ],
      "execution_count": 17,
      "outputs": [
        {
          "output_type": "stream",
          "text": [
            "WARNING:tensorflow:From /usr/local/lib/python3.6/dist-packages/tensorflow/python/training/tracking/tracking.py:111: Model.state_updates (from tensorflow.python.keras.engine.training) is deprecated and will be removed in a future version.\n",
            "Instructions for updating:\n",
            "This property should not be used in TensorFlow 2.0, as updates are applied automatically.\n"
          ],
          "name": "stdout"
        },
        {
          "output_type": "stream",
          "text": [
            "WARNING:tensorflow:From /usr/local/lib/python3.6/dist-packages/tensorflow/python/training/tracking/tracking.py:111: Model.state_updates (from tensorflow.python.keras.engine.training) is deprecated and will be removed in a future version.\n",
            "Instructions for updating:\n",
            "This property should not be used in TensorFlow 2.0, as updates are applied automatically.\n"
          ],
          "name": "stderr"
        },
        {
          "output_type": "stream",
          "text": [
            "WARNING:tensorflow:From /usr/local/lib/python3.6/dist-packages/tensorflow/python/training/tracking/tracking.py:111: Layer.updates (from tensorflow.python.keras.engine.base_layer) is deprecated and will be removed in a future version.\n",
            "Instructions for updating:\n",
            "This property should not be used in TensorFlow 2.0, as updates are applied automatically.\n"
          ],
          "name": "stdout"
        },
        {
          "output_type": "stream",
          "text": [
            "WARNING:tensorflow:From /usr/local/lib/python3.6/dist-packages/tensorflow/python/training/tracking/tracking.py:111: Layer.updates (from tensorflow.python.keras.engine.base_layer) is deprecated and will be removed in a future version.\n",
            "Instructions for updating:\n",
            "This property should not be used in TensorFlow 2.0, as updates are applied automatically.\n"
          ],
          "name": "stderr"
        },
        {
          "output_type": "stream",
          "text": [
            "INFO:tensorflow:Assets written to: saved_model/rnn_many_to_one/assets\n"
          ],
          "name": "stdout"
        },
        {
          "output_type": "stream",
          "text": [
            "INFO:tensorflow:Assets written to: saved_model/rnn_many_to_one/assets\n"
          ],
          "name": "stderr"
        }
      ]
    },
    {
      "cell_type": "markdown",
      "metadata": {
        "id": "2DajQXLAVjyb"
      },
      "source": [
        "### 1.3. Implementando nuestra propia celda RNN\n",
        "\n",
        "Implementaremos una celda RNN respetando las especificaciones de `tf.keras`, de tal modo que podamos seguir usando la funcionalidad de Keras. Para ello creamos una subclase de `tf.keras.Layers.layer` con los siguientes métodos.\n",
        "\n",
        "#### Build: Tensores para los parámetros del modelo\n",
        "\n",
        "Creamos los tensores para los datos de entrada y para los parámetros. Inicializamos los pesos $U$ y $W$ con el inicializador *Xavier/Glorot*, esto es, con una distribución aleatoria uniforme en el rango $[-r, +r]$, donde $r = \\sqrt{\\frac{6}{n_{inputs} + n_{outputs}}}$. Inicializamos los biases $b$ con ceros.\n",
        "\n",
        "#### Get_initial_state: Iniciando la recurrencia\n",
        "\n",
        "`Get_initial_state` define el primer estado $\\textbf{h}^{(0)}$ con ceros. \n",
        "\n",
        "#### Call: Operaciones de la celda RNN\n",
        "\n",
        "El algoritmo para calcular $\\textbf{h}^{(t)}$ a partir de $\\textbf{h}^{(t-1)}$ y $\\textbf{x}^{(t)}$ es:\n",
        "\n",
        "$\\textbf{a}^{(t)}  = \\textbf{b} + \\textbf{W}\\textbf{h}^{(t-1)} + \\textbf{U}\\textbf{x}^{(t)}$\n",
        "\n",
        "$\\textbf{h}^{(t)}  = tanh(\\textbf{a}^{(t)})$\n",
        "\n",
        "En el código de abajo las multiplicaciones de matrices se encuentran invertidas en relacion a las ecuaciones porque estamos procesando en lotes las imágenes de entrada y TensorFlow espera recibir los datos con `batch_size` como la primera dimensión (no sería así si pusiésemos `batch_size` como última dimensión).\n",
        "\n",
        "En cada paso se ejecutará `call`, que nos devuelve las salidas de la celda y los estados que pasan al siguiente paso: $\\textbf{h}^{(1)}, ..., \\textbf{h}^{(t)}$."
      ]
    },
    {
      "cell_type": "code",
      "metadata": {
        "id": "jovXFWYJ2iXv"
      },
      "source": [
        "# Simplificado y adaptado de https://github.com/tensorflow/tensorflow/blob/r2.0/tensorflow/python/keras/layers/recurrent.py#L1109-L1268\n",
        "# Para un explicación general sobre la creación de layers personalizados, ver: https://www.tensorflow.org/guide/keras/custom_layers_and_models\n",
        "\n",
        "class MiCeldaRNN(tf.keras.layers.Layer):\n",
        "  \"\"\"Cell class for SimpleRNN.\n",
        "  Arguments:\n",
        "    units: Positive integer, dimensionality of the output space.\n",
        "  Call arguments:\n",
        "    inputs: A 2D tensor.\n",
        "    states: List of state tensors corresponding to the previous timestep.\n",
        "  Returns:\n",
        "    output: Output tensor.\n",
        "    next_states: List of state tensors corresponding to the next timestep.\n",
        "  \"\"\"\n",
        "\n",
        "  def __init__(self,\n",
        "               units,\n",
        "               **kwargs):\n",
        "    super(MiCeldaRNN, self).__init__(**kwargs)\n",
        "    self.units = units\n",
        "    self.state_size = self.units\n",
        "    self.output_size = self.units\n",
        "\n",
        "  # `build` sólo se ejecuta cuando se conoce ya las dimensiones de los inputs\n",
        "  def build(self, input_shape):\n",
        "    # U\n",
        "    self.kernel = self.add_weight(\n",
        "        shape=(input_shape[-1], self.units),\n",
        "        name='kernel',\n",
        "        initializer='glorot_uniform')\n",
        "    # W\n",
        "    self.recurrent_kernel = self.add_weight(\n",
        "        shape=(self.units, self.units),\n",
        "        name='recurrent_kernel',\n",
        "        initializer='glorot_uniform')\n",
        "    # b\n",
        "    self.bias = self.add_weight(\n",
        "      shape=(self.units,),\n",
        "      name='bias',\n",
        "      initializer='zeros')\n",
        "    self.built = True\n",
        "\n",
        "  # `get_initial_state` es propio de los layers de celdas RNN\n",
        "  def get_initial_state(self, inputs=None, batch_size=None, dtype=None):\n",
        "    if inputs is not None:\n",
        "      batch_size = tf.shape(inputs)[0]\n",
        "      dtype = inputs.dtype\n",
        "    return [tf.zeros([batch_size, self.state_size], dtype=dtype)]\n",
        "\n",
        "  # `call` define las operaciones del layer\n",
        "  def call(self, inputs, states, training=None):\n",
        "    b = self.bias\n",
        "    h_tmenos1 = states[0]\n",
        "    W = self.recurrent_kernel\n",
        "    x_t = inputs\n",
        "    U = self.kernel\n",
        "\n",
        "    a_t = b + tf.matmul(h_tmenos1, W) + tf.matmul(x_t, U)\n",
        "    h_t = tf.tanh(a_t)\n",
        "\n",
        "    # output = tf.tanh(self.bias + tf.matmul(states, self. recurrent_kernel) + tf.matmul(inputs, self.kernel))\n",
        "    output = h_t\n",
        "    next_states = [h_t]\n",
        "\n",
        "    return output, next_states\n",
        "\n",
        "  # `get_config` es muy fácil de implementar y permite serializar el modelo\n",
        "  def get_config(self):\n",
        "    config = {\n",
        "        'units':\n",
        "            self.units\n",
        "    }\n",
        "    base_config = super(MiCeldaRNN, self).get_config()\n",
        "    return dict(list(base_config.items()) + list(config.items()))"
      ],
      "execution_count": 18,
      "outputs": []
    },
    {
      "cell_type": "code",
      "metadata": {
        "id": "7rog3-sr8ibF",
        "colab": {
          "base_uri": "https://localhost:8080/"
        },
        "outputId": "e8a6231f-1a5d-4ac3-a1b9-f2a3e0f18826"
      },
      "source": [
        "model = tf.keras.models.Sequential([\n",
        "      keras.layers.RNN(MiCeldaRNN(NUM_UNITS), input_shape=(NUM_STEPS, INPUT_SIZE)),\n",
        "      keras.layers.Dense(NUM_CLASSES, activation='softmax')\n",
        "])\n",
        "\n",
        "model.summary()"
      ],
      "execution_count": 19,
      "outputs": [
        {
          "output_type": "stream",
          "text": [
            "Model: \"sequential\"\n",
            "_________________________________________________________________\n",
            "Layer (type)                 Output Shape              Param #   \n",
            "=================================================================\n",
            "rnn (RNN)                    (None, 128)               20096     \n",
            "_________________________________________________________________\n",
            "dense_1 (Dense)              (None, 10)                1290      \n",
            "=================================================================\n",
            "Total params: 21,386\n",
            "Trainable params: 21,386\n",
            "Non-trainable params: 0\n",
            "_________________________________________________________________\n"
          ],
          "name": "stdout"
        }
      ]
    },
    {
      "cell_type": "code",
      "metadata": {
        "id": "K4FCo4rsPmY-",
        "colab": {
          "base_uri": "https://localhost:8080/"
        },
        "outputId": "cc3e7f5b-81d2-4f5b-f606-f3f50f3b6bb8"
      },
      "source": [
        "# Habilita la siguiente línea si quieres explorar cómo queda serializada la arquitectura de todo el modelo\n",
        "model.get_config()"
      ],
      "execution_count": 20,
      "outputs": [
        {
          "output_type": "execute_result",
          "data": {
            "text/plain": [
              "{'layers': [{'class_name': 'InputLayer',\n",
              "   'config': {'batch_input_shape': (None, 28, 28),\n",
              "    'dtype': 'float32',\n",
              "    'name': 'rnn_input',\n",
              "    'ragged': False,\n",
              "    'sparse': False}},\n",
              "  {'class_name': 'RNN',\n",
              "   'config': {'batch_input_shape': (None, 28, 28),\n",
              "    'cell': {'class_name': 'MiCeldaRNN',\n",
              "     'config': {'dtype': 'float32',\n",
              "      'name': 'mi_celda_rnn',\n",
              "      'trainable': True,\n",
              "      'units': 128}},\n",
              "    'dtype': 'float32',\n",
              "    'go_backwards': False,\n",
              "    'name': 'rnn',\n",
              "    'return_sequences': False,\n",
              "    'return_state': False,\n",
              "    'stateful': False,\n",
              "    'time_major': False,\n",
              "    'trainable': True,\n",
              "    'unroll': False}},\n",
              "  {'class_name': 'Dense',\n",
              "   'config': {'activation': 'softmax',\n",
              "    'activity_regularizer': None,\n",
              "    'bias_constraint': None,\n",
              "    'bias_initializer': {'class_name': 'Zeros', 'config': {}},\n",
              "    'bias_regularizer': None,\n",
              "    'dtype': 'float32',\n",
              "    'kernel_constraint': None,\n",
              "    'kernel_initializer': {'class_name': 'GlorotUniform',\n",
              "     'config': {'seed': None}},\n",
              "    'kernel_regularizer': None,\n",
              "    'name': 'dense_1',\n",
              "    'trainable': True,\n",
              "    'units': 10,\n",
              "    'use_bias': True}}],\n",
              " 'name': 'sequential'}"
            ]
          },
          "metadata": {
            "tags": []
          },
          "execution_count": 20
        }
      ]
    },
    {
      "cell_type": "code",
      "metadata": {
        "id": "1tfq5Mp-9C0L",
        "colab": {
          "base_uri": "https://localhost:8080/",
          "height": 315
        },
        "outputId": "1cfe719f-f9a1-4237-8bf8-04a3bffa53b5"
      },
      "source": [
        "# Compilamos y entrenamos el modelo\n",
        "model.compile(loss='sparse_categorical_crossentropy',\n",
        "              metrics=['accuracy'], optimizer='adam')\n",
        "history = model.fit(mnist_train, epochs=NUM_EPOCHS)\n",
        "\n",
        "# Evaluamos y guardamos los resultados\n",
        "loss, accuracy = model.evaluate(test_images, test_labels, verbose=0)\n",
        "model.save('saved_model/rnn_many_to_one_miceldarnn')\n",
        "\n",
        "resultados = resultados.append({\n",
        "    'modelo': 'RNN simple, many-to-one -- MiCeldaRNN',\n",
        "    'num_units': NUM_UNITS,\n",
        "    'num_epochs': NUM_EPOCHS,\n",
        "    'exactitud (accuracy)': accuracy\n",
        "}, ignore_index=True)\n",
        "resultados.to_excel('resultados.xlsx', index=False)\n",
        "resultados"
      ],
      "execution_count": 21,
      "outputs": [
        {
          "output_type": "stream",
          "text": [
            "Epoch 1/5\n",
            "30/30 [==============================] - 2s 64ms/step - loss: 1.4699 - accuracy: 0.5294\n",
            "Epoch 2/5\n",
            "30/30 [==============================] - 2s 65ms/step - loss: 0.6352 - accuracy: 0.8107\n",
            "Epoch 3/5\n",
            "30/30 [==============================] - 2s 66ms/step - loss: 0.4188 - accuracy: 0.8805\n",
            "Epoch 4/5\n",
            "30/30 [==============================] - 2s 65ms/step - loss: 0.3185 - accuracy: 0.9107\n",
            "Epoch 5/5\n",
            "30/30 [==============================] - 2s 65ms/step - loss: 0.2726 - accuracy: 0.9223\n",
            "INFO:tensorflow:Assets written to: saved_model/rnn_many_to_one_miceldarnn/assets\n"
          ],
          "name": "stdout"
        },
        {
          "output_type": "stream",
          "text": [
            "INFO:tensorflow:Assets written to: saved_model/rnn_many_to_one_miceldarnn/assets\n"
          ],
          "name": "stderr"
        },
        {
          "output_type": "execute_result",
          "data": {
            "text/html": [
              "<div>\n",
              "<style scoped>\n",
              "    .dataframe tbody tr th:only-of-type {\n",
              "        vertical-align: middle;\n",
              "    }\n",
              "\n",
              "    .dataframe tbody tr th {\n",
              "        vertical-align: top;\n",
              "    }\n",
              "\n",
              "    .dataframe thead th {\n",
              "        text-align: right;\n",
              "    }\n",
              "</style>\n",
              "<table border=\"1\" class=\"dataframe\">\n",
              "  <thead>\n",
              "    <tr style=\"text-align: right;\">\n",
              "      <th></th>\n",
              "      <th>modelo</th>\n",
              "      <th>num_units</th>\n",
              "      <th>num_epochs</th>\n",
              "      <th>exactitud (accuracy)</th>\n",
              "    </tr>\n",
              "  </thead>\n",
              "  <tbody>\n",
              "    <tr>\n",
              "      <th>0</th>\n",
              "      <td>RNN simple, many-to-one -- keras.layers.SimpleRNN</td>\n",
              "      <td>128</td>\n",
              "      <td>5</td>\n",
              "      <td>0.9342</td>\n",
              "    </tr>\n",
              "    <tr>\n",
              "      <th>1</th>\n",
              "      <td>RNN simple, many-to-one -- MiCeldaRNN</td>\n",
              "      <td>128</td>\n",
              "      <td>5</td>\n",
              "      <td>0.9252</td>\n",
              "    </tr>\n",
              "  </tbody>\n",
              "</table>\n",
              "</div>"
            ],
            "text/plain": [
              "                                              modelo  ... exactitud (accuracy)\n",
              "0  RNN simple, many-to-one -- keras.layers.SimpleRNN  ...               0.9342\n",
              "1              RNN simple, many-to-one -- MiCeldaRNN  ...               0.9252\n",
              "\n",
              "[2 rows x 4 columns]"
            ]
          },
          "metadata": {
            "tags": []
          },
          "execution_count": 21
        }
      ]
    },
    {
      "cell_type": "markdown",
      "metadata": {
        "id": "9WGRb0YjVjy-"
      },
      "source": [
        "## 2. RNN *many-to-many* para clasificación de MNIST\n",
        "\n",
        "En la primera parte hemos empleado una RNN *many-to-one*, entrenada para clasificar el dígito correspondiente a una imagen MNIST interpretada como una secuencia de filas de pixeles. Ahora experimentaremos con una RNN que intente predecir la clase de la imagen como salida en *cada uno de los pasos* de la RNN.\n",
        "\n",
        "Para ello, en lugar de calcular las predicciones sólo desde el estado final, las calcularemos desde cada estado. Con ello, las dimensiones de salida serán ahora `[BATCH_SIZE, NUM_STEPS, NUM_CLASSES]`"
      ]
    },
    {
      "cell_type": "code",
      "metadata": {
        "id": "YTloWa19JjTk",
        "colab": {
          "base_uri": "https://localhost:8080/"
        },
        "outputId": "eaca3ff4-5992-4432-8503-d424cbae2f66"
      },
      "source": [
        "def tile_labels(images, labels):\n",
        "  # Los labels vienen en un tensor 1-D de dimensiones: (BATCH_SIZE,)\n",
        "  # Primero lo convertimos a 2-D con dimensiones: [BATCH_SIZE, 1]\n",
        "  labels2d = tf.expand_dims(labels, 1)\n",
        "  # Luego, con tf.tile armamos un \"enlosado\" de 1x28 piezas de labels2d,\n",
        "  # quedándonos como resultado un matriz de dimensiones: [BATCH_SIZE, 28]\n",
        "  labels2d_tiled = tf.tile(labels2d, [1, 28])\n",
        "  return images, labels2d_tiled\n",
        "\n",
        "# Siempre es bueno probar que nuestra funciones hagan lo que esperamos\n",
        "def test_tile_labels():\n",
        "   input_labels = tf.constant([3, 2, 7, 5])\n",
        "   expected_result = [ [x] * 28 for x in input_labels ]\n",
        "   images, tiled_labels = tile_labels(None, input_labels)\n",
        "   # assert(np.array_equal(tiled_labels, expected_result))\n",
        "   print('Tensor de entrada :', input_labels)\n",
        "   print('\\n...se transforma en...\\n')\n",
        "   print('Tensor de salida :', tiled_labels)\n",
        "test_tile_labels()"
      ],
      "execution_count": 22,
      "outputs": [
        {
          "output_type": "stream",
          "text": [
            "Tensor de entrada : tf.Tensor([3 2 7 5], shape=(4,), dtype=int32)\n",
            "\n",
            "...se transforma en...\n",
            "\n",
            "Tensor de salida : tf.Tensor(\n",
            "[[3 3 3 3 3 3 3 3 3 3 3 3 3 3 3 3 3 3 3 3 3 3 3 3 3 3 3 3]\n",
            " [2 2 2 2 2 2 2 2 2 2 2 2 2 2 2 2 2 2 2 2 2 2 2 2 2 2 2 2]\n",
            " [7 7 7 7 7 7 7 7 7 7 7 7 7 7 7 7 7 7 7 7 7 7 7 7 7 7 7 7]\n",
            " [5 5 5 5 5 5 5 5 5 5 5 5 5 5 5 5 5 5 5 5 5 5 5 5 5 5 5 5]], shape=(4, 28), dtype=int32)\n"
          ],
          "name": "stdout"
        }
      ]
    },
    {
      "cell_type": "code",
      "metadata": {
        "id": "GL1y_RSHIJWc",
        "colab": {
          "base_uri": "https://localhost:8080/"
        },
        "outputId": "889102c2-76f0-4bfb-bec2-894789b5caaf"
      },
      "source": [
        "# Añadimos return_sequences=True para emitir salidas en cada paso\n",
        "model = tf.keras.models.Sequential([\n",
        "      keras.layers.SimpleRNN(NUM_UNITS, input_shape=(NUM_STEPS, INPUT_SIZE), return_sequences=True),\n",
        "      keras.layers.Dense(NUM_CLASSES, activation='softmax')\n",
        "])\n",
        "\n",
        "# Observa que las dimensiones de salida han cambiado, pero el número de parámetros no\n",
        "# Asegúrate que entiendes por qué\n",
        "model.summary()"
      ],
      "execution_count": 23,
      "outputs": [
        {
          "output_type": "stream",
          "text": [
            "Model: \"sequential_1\"\n",
            "_________________________________________________________________\n",
            "Layer (type)                 Output Shape              Param #   \n",
            "=================================================================\n",
            "simple_rnn_1 (SimpleRNN)     (None, 28, 128)           20096     \n",
            "_________________________________________________________________\n",
            "dense_2 (Dense)              (None, 28, 10)            1290      \n",
            "=================================================================\n",
            "Total params: 21,386\n",
            "Trainable params: 21,386\n",
            "Non-trainable params: 0\n",
            "_________________________________________________________________\n"
          ],
          "name": "stdout"
        }
      ]
    },
    {
      "cell_type": "code",
      "metadata": {
        "id": "P7uQa1GupMx5",
        "colab": {
          "base_uri": "https://localhost:8080/",
          "height": 519
        },
        "outputId": "5d366705-661a-44f8-bf0f-d3441aa1d71a"
      },
      "source": [
        "# Compilamos y entrenamos el modelo\n",
        "NUM_EPOCHS = 5\n",
        "model.compile(loss='sparse_categorical_crossentropy',\n",
        "              metrics=['accuracy'], optimizer='adam')\n",
        "history = model.fit(mnist_train.map(tile_labels), epochs=NUM_EPOCHS)\n",
        "\n",
        "# Calculamos la exactitud manualmente a partir de las predicciones\n",
        "from sklearn.metrics import accuracy_score\n",
        "test_pred_proba = model.predict_proba(test_images)  # (10000, 28, 10) Probabilidades para cada clase para cada paso de la secuencia\n",
        "test_pred = np.argmax(test_pred_proba, axis=-1)  # (10000, 28) Clase predecida para cada paso de la secuencia \n",
        "test_pred_flat = test_pred.reshape([-1])  # (280000,) test_pred \"flattened\" \n",
        "test_labels_tiled = np.tile(np.expand_dims(test_labels, axis=1), [1,28])  # (10000, 28) Clase \"target\" para cada paso de la secuencia\n",
        "test_labels_tiled_flat = test_labels_tiled.reshape([-1])  # (280000,) test_labels_tiled \"flattened\" \n",
        "\n",
        "test_acc_general = accuracy_score(test_labels_tiled_flat, test_pred_flat)  # Acc considerando cada paso de la secuencia\n",
        "test_acc_last = accuracy_score(test_labels, test_pred[:,-1])  # Acc considerando sólo la predicción final de la secuencia\n",
        "print('Exactitud general en las predicciones :', test_acc_general)\n",
        "print('Exactitud en la predicción del último paso :', test_acc_last)\n",
        "\n",
        "# Comparamos con la exactitud que calcula Keras\n",
        "loss, accuracy = model.evaluate(test_images, test_labels_tiled, verbose=0)\n",
        "model.save('saved_model/rnn_many_to_many')\n",
        "print('Exactitud calculada por Keras :', accuracy)\n",
        "\n",
        "# Juntamos los resultados\n",
        "resultados = resultados.append({\n",
        "    'modelo': 'RNN simple, many-to-many -- BasicRNNCell',\n",
        "    'num_units': NUM_UNITS,\n",
        "    'num_epochs': NUM_EPOCHS,\n",
        "    'exactitud (accuracy)': test_acc_general,\n",
        "    'exactitud (accuracy) en último paso': test_acc_last\n",
        "}, ignore_index=True)\n",
        "resultados.to_excel('resultados.xlsx', index=False)\n",
        "resultados"
      ],
      "execution_count": 24,
      "outputs": [
        {
          "output_type": "stream",
          "text": [
            "Epoch 1/5\n",
            "30/30 [==============================] - 2s 61ms/step - loss: 2.0819 - accuracy: 0.2393\n",
            "Epoch 2/5\n",
            "30/30 [==============================] - 2s 62ms/step - loss: 1.7295 - accuracy: 0.3732\n",
            "Epoch 3/5\n",
            "30/30 [==============================] - 2s 66ms/step - loss: 1.5175 - accuracy: 0.4538\n",
            "Epoch 4/5\n",
            "30/30 [==============================] - 2s 61ms/step - loss: 1.3669 - accuracy: 0.5165\n",
            "Epoch 5/5\n",
            "30/30 [==============================] - 2s 62ms/step - loss: 1.2531 - accuracy: 0.5629\n",
            "WARNING:tensorflow:From <ipython-input-24-9a4b95614ca5>:9: Sequential.predict_proba (from tensorflow.python.keras.engine.sequential) is deprecated and will be removed after 2021-01-01.\n",
            "Instructions for updating:\n",
            "Please use `model.predict()` instead.\n"
          ],
          "name": "stdout"
        },
        {
          "output_type": "stream",
          "text": [
            "WARNING:tensorflow:From <ipython-input-24-9a4b95614ca5>:9: Sequential.predict_proba (from tensorflow.python.keras.engine.sequential) is deprecated and will be removed after 2021-01-01.\n",
            "Instructions for updating:\n",
            "Please use `model.predict()` instead.\n"
          ],
          "name": "stderr"
        },
        {
          "output_type": "stream",
          "text": [
            "Exactitud general en las predicciones : 0.5841392857142857\n",
            "Exactitud en la predicción del último paso : 0.8047\n",
            "INFO:tensorflow:Assets written to: saved_model/rnn_many_to_many/assets\n"
          ],
          "name": "stdout"
        },
        {
          "output_type": "stream",
          "text": [
            "INFO:tensorflow:Assets written to: saved_model/rnn_many_to_many/assets\n"
          ],
          "name": "stderr"
        },
        {
          "output_type": "stream",
          "text": [
            "Exactitud calculada por Keras : 0.5841392874717712\n"
          ],
          "name": "stdout"
        },
        {
          "output_type": "execute_result",
          "data": {
            "text/html": [
              "<div>\n",
              "<style scoped>\n",
              "    .dataframe tbody tr th:only-of-type {\n",
              "        vertical-align: middle;\n",
              "    }\n",
              "\n",
              "    .dataframe tbody tr th {\n",
              "        vertical-align: top;\n",
              "    }\n",
              "\n",
              "    .dataframe thead th {\n",
              "        text-align: right;\n",
              "    }\n",
              "</style>\n",
              "<table border=\"1\" class=\"dataframe\">\n",
              "  <thead>\n",
              "    <tr style=\"text-align: right;\">\n",
              "      <th></th>\n",
              "      <th>modelo</th>\n",
              "      <th>num_units</th>\n",
              "      <th>num_epochs</th>\n",
              "      <th>exactitud (accuracy)</th>\n",
              "      <th>exactitud (accuracy) en último paso</th>\n",
              "    </tr>\n",
              "  </thead>\n",
              "  <tbody>\n",
              "    <tr>\n",
              "      <th>0</th>\n",
              "      <td>RNN simple, many-to-one -- keras.layers.SimpleRNN</td>\n",
              "      <td>128</td>\n",
              "      <td>5</td>\n",
              "      <td>0.934200</td>\n",
              "      <td>NaN</td>\n",
              "    </tr>\n",
              "    <tr>\n",
              "      <th>1</th>\n",
              "      <td>RNN simple, many-to-one -- MiCeldaRNN</td>\n",
              "      <td>128</td>\n",
              "      <td>5</td>\n",
              "      <td>0.925200</td>\n",
              "      <td>NaN</td>\n",
              "    </tr>\n",
              "    <tr>\n",
              "      <th>2</th>\n",
              "      <td>RNN simple, many-to-many -- BasicRNNCell</td>\n",
              "      <td>128</td>\n",
              "      <td>5</td>\n",
              "      <td>0.584139</td>\n",
              "      <td>0.8047</td>\n",
              "    </tr>\n",
              "  </tbody>\n",
              "</table>\n",
              "</div>"
            ],
            "text/plain": [
              "                                              modelo  ... exactitud (accuracy) en último paso\n",
              "0  RNN simple, many-to-one -- keras.layers.SimpleRNN  ...                                 NaN\n",
              "1              RNN simple, many-to-one -- MiCeldaRNN  ...                                 NaN\n",
              "2           RNN simple, many-to-many -- BasicRNNCell  ...                              0.8047\n",
              "\n",
              "[3 rows x 5 columns]"
            ]
          },
          "metadata": {
            "tags": []
          },
          "execution_count": 24
        }
      ]
    },
    {
      "cell_type": "markdown",
      "metadata": {
        "id": "WVbogSK8VjzG"
      },
      "source": [
        "Visualicemos las predicciones para cada uno de los pasos en una imagen cualquiera del conjunto de pruebas:"
      ]
    },
    {
      "cell_type": "code",
      "metadata": {
        "id": "0OFCDGvvVOCY",
        "colab": {
          "base_uri": "https://localhost:8080/"
        },
        "outputId": "8219c66d-5bda-4752-d1ef-c08472d15e24"
      },
      "source": [
        "def visualize_preds(image, test_pred_proba, dataset='mnist'):\n",
        "\n",
        "  fashion_mnist_label_names = [\"top\", \"trouser\", \"pullover\", \"dress\", \"coat\",\n",
        "\t\"sandal\", \"shirt\", \"sneaker\", \"bag\", \"ankle boot\"]\n",
        "\n",
        "  # Para facilitar esta visualización convertimos los pixels en caracteres ASCII\n",
        "  ascii_grayscale = \"B@%#*+=-:. \"\n",
        "  ascii_image = [[ascii_grayscale[int(round(pixel * (len(ascii_grayscale) - 1)))] for pixel in row] for row in image]\n",
        "\n",
        "  print(\"{:31}{:15}{:10}\".format(\n",
        "    \"Filas de la imagen\", \n",
        "    \"Predicción\",\n",
        "    \"Probabilidad\"\n",
        "      ))\n",
        "  for image_row, proba in zip(ascii_image, test_pred_proba):\n",
        "    pred = np.argmax(proba)\n",
        "    proba = np.max(proba)\n",
        "    if dataset == 'fashion_mnist':\n",
        "      label = ' ({})'.format(fashion_mnist_label_names[int(pred)])\n",
        "    else:\n",
        "      label = ''\n",
        "    print(\"{}{:9d}{:18.7f}{}\".format(\n",
        "      ''.join(image_row), \n",
        "      pred,\n",
        "      proba,\n",
        "      label\n",
        "      ))\n",
        "  print()\n",
        "\n",
        "# Mostremos algunas imágenes aleatorias del conjunto de pruebas\n",
        "NUM_SAMPLES = 2\n",
        "for IMAGE_INDEX in np.random.randint(test_images.shape[0], size=NUM_SAMPLES):\n",
        "  print(\"Imagen #\", IMAGE_INDEX)\n",
        "  print(\"Label :\", test_labels[IMAGE_INDEX])\n",
        "  visualize_preds(test_images[IMAGE_INDEX], test_pred_proba[IMAGE_INDEX])\n"
      ],
      "execution_count": 25,
      "outputs": [
        {
          "output_type": "stream",
          "text": [
            "Imagen # 2276\n",
            "Label : 3\n",
            "Filas de la imagen             Predicción     Probabilidad\n",
            "BBBBBBBBBBBBBBBBBBBBBBBBBBBB        1         0.1064847\n",
            "BBBBBBBBBBBBBBBBBBBBBBBBBBBB        1         0.1113526\n",
            "BBBBBBBBBBBBBBBBBBBBBBBBBBBB        1         0.1177803\n",
            "BBBBBBBBBBBBBBBBBBBBBBBBBBBB        1         0.1261280\n",
            "BBBBBBBBBB#==.  -@BBBBBBBBBB        8         0.1829318\n",
            "BBBBBBBBB#       -@BBBBBBBBB        8         0.2684815\n",
            "BBBBBBBBB*        =BBBBBBBBB        2         0.2334992\n",
            "BBBBBBBBB@+##B@:  .@BBBBBBBB        2         0.3051448\n",
            "BBBBBBBBBBBBBBB@.  %BBBBBBBB        3         0.3747651\n",
            "BBBBBBBBBBBBBBB#  .@BBBBBBBB        3         0.4343815\n",
            "BBBBBBBBBBBBBB%:  +BBBBBBBBB        3         0.4523971\n",
            "BBBBBBBBBBBB@=    #BBBBBBBBB        3         0.4614711\n",
            "BBBBBBBBBBBB+     .*BBBBBBBB        3         0.5019631\n",
            "BBBBBBBBBBB@.       *BBBBBBB        3         0.5752100\n",
            "BBBBBBBBBBBB%***-:  .@BBBBBB        3         0.6752193\n",
            "BBBBBBBBBBBBBBBBB*   =BBBBBB        3         0.7153963\n",
            "BBBBBBBBBBBBBBBBBB=  :BBBBBB        3         0.7619576\n",
            "BBBBBBB*:.@BBBBBBB=  -BBBBBB        3         0.7807347\n",
            "BBBBBBB  +BBBBBBB@:  %BBBBBB        3         0.7664736\n",
            "BBBBBB*  %BBBBBB*:  +BBBBBBB        3         0.7641141\n",
            "BBBBBB:  -@BB@*.   +BBBBBBBB        3         0.7146865\n",
            "BBBBBB-          .+BBBBBBBBB        3         0.6529908\n",
            "BBBBBB@:       .*@BBBBBBBBBB        3         0.5466951\n",
            "BBBBBBB#:    -#BBBBBBBBBBBBB        3         0.5016168\n",
            "BBBBBBBBBBBBBBBBBBBBBBBBBBBB        3         0.4968242\n",
            "BBBBBBBBBBBBBBBBBBBBBBBBBBBB        3         0.5316795\n",
            "BBBBBBBBBBBBBBBBBBBBBBBBBBBB        3         0.5302237\n",
            "BBBBBBBBBBBBBBBBBBBBBBBBBBBB        3         0.4979131\n",
            "\n",
            "Imagen # 3501\n",
            "Label : 0\n",
            "Filas de la imagen             Predicción     Probabilidad\n",
            "BBBBBBBBBBBBBBBBBBBBBBBBBBBB        1         0.1064847\n",
            "BBBBBBBBBBBBBBBBBBBBBBBBBBBB        1         0.1113526\n",
            "BBBBBBBBBBBBBBBBBBBBBBBBBBBB        1         0.1177803\n",
            "BBBBBBBBBBBBBBBBBBBBBBBBBBBB        1         0.1261280\n",
            "BBBBBBBBBBB# -BBBBBBBBBBBBBB        5         0.1449408\n",
            "BBBBBBBBBBB- :BB+:::@BBBBBBB        8         0.2352154\n",
            "BBBBBBBBBB+  +@:    .@BBBBBB        8         0.2463728\n",
            "BBBBBBBBB%. :B=  :.  -BBBBBB        8         0.2045088\n",
            "BBBBBBBBB:  #B  =B%   @BBBBB        0         0.3030022\n",
            "BBBBBBBB+  =BB .@BB.  @BBBBB        0         0.3493518\n",
            "BBBBBBB@. .%BB%:%BB=  *BBBBB        0         0.4035583\n",
            "BBBBBBB+  +BBBBBBBB=  +BBBBB        0         0.5115256\n",
            "BBBBBBB.  %BBBBBBBB=  +BBBBB        0         0.6079435\n",
            "BBBBBB%  +BBBBBBBBB=  +BBBBB        0         0.7002501\n",
            "BBBBBB=  #BBBBBBBBB-  @BBBBB        0         0.7476894\n",
            "BBBBB@   BBBBBBBBB#  :BBBBBB        0         0.7572999\n",
            "BBBBB@  +BBBBBBBBB=  *BBBBBB        0         0.7599492\n",
            "BBBBB*  %BBBBBBBB=  .BBBBBBB        0         0.7608575\n",
            "BBBBB+  %BBBBBBB+  .*BBBBBBB        0         0.7859825\n",
            "BBBBB+  %BBBBB@-  .*BBBBBBBB        0         0.8049275\n",
            "BBBBB#  *BBB#+.  -%BBBBBBBBB        0         0.8692198\n",
            "BBBBB@   ==:    *BBBBBBBBBBB        0         0.9283634\n",
            "BBBBBB+      .:@BBBBBBBBBBBB        0         0.9451907\n",
            "BBBBBBB#=  .+@BBBBBBBBBBBBBB        0         0.9534245\n",
            "BBBBBBBBBBBBBBBBBBBBBBBBBBBB        0         0.9397297\n",
            "BBBBBBBBBBBBBBBBBBBBBBBBBBBB        0         0.9319633\n",
            "BBBBBBBBBBBBBBBBBBBBBBBBBBBB        0         0.9329879\n",
            "BBBBBBBBBBBBBBBBBBBBBBBBBBBB        0         0.9404775\n",
            "\n"
          ],
          "name": "stdout"
        }
      ]
    },
    {
      "cell_type": "markdown",
      "metadata": {
        "id": "x31z6d-FVjzM"
      },
      "source": [
        "## 3. Añadiendo profundidad y bidireccionalidad\n",
        "\n",
        "Es muy fácil apilar varias capas RNN una sobre otra. En esos casos, independientemente si se emitirá una sola salida al final (como en la red many-to-one de arriba) o una salida en cada paso (como en la red many-to-many), *todas* las capas anteriores a la última capa RNN deben usar ´return_sequences = true´. ¿Por qué?\n",
        "\n",
        "Por otro lado, para añadir bidireccionalidad, es suficiente con envolver *(wrap)* la capa RNN con la capa `Bidirectional`, p.ej.:\n",
        "\n",
        "```python\n",
        "  keras.layers.Bidirectional(SimpleRNN(5)),\n",
        "```\n",
        "\n",
        "¿Qué esperarías que fuera mejor para mejorar la exactitud en esta particular red many-to-many? ¿Una segunda capa de profundidad? ¿O añadir bidireccionalidad? ¿Por qué?\n",
        "\n",
        "Prepara dos modelos many-to-many con el dataset `fashion_mnist`: uno con 3 capas recurrentes (profundidad) y uno con una sola capa bidireccional. Entrena los modelos por 20 épocas y visualiza las predicciones para cada paso, usando las funciones definidas en este notebook. Comentar los resultados obtenidos."
      ]
    },
    {
      "cell_type": "markdown",
      "metadata": {
        "id": "NmSx9M-ZysT5"
      },
      "source": [
        "***Respuesta:***\n",
        "Esperaría que sea mejor la exactitud añadiendo bidireccionalidad. Por que esta ya habría visto toda la imagen, no sólo las líneas pasadas y el presente sino las líneas que vienen hasta el final desde un principio."
      ]
    },
    {
      "cell_type": "code",
      "metadata": {
        "id": "BerCamFJzXnF",
        "colab": {
          "base_uri": "https://localhost:8080/"
        },
        "outputId": "89d75cf9-dda2-49cf-ee73-94840942e55d"
      },
      "source": [
        "inputs  = keras.Input(shape=(NUM_STEPS, INPUT_SIZE))\n",
        "x = keras.layers.SimpleRNN(NUM_UNITS,return_sequences=True)(inputs)\n",
        "x = keras.layers.SimpleRNN(NUM_UNITS,return_sequences=True)(x)\n",
        "x = keras.layers.SimpleRNN(NUM_UNITS,return_sequences=True)(x)\n",
        "outputs = keras.layers.Dense(NUM_CLASSES, activation='softmax')(x)\n",
        "\n",
        "model = keras.Model(inputs=inputs, outputs=outputs)\n",
        "\n",
        "model.summary()"
      ],
      "execution_count": 26,
      "outputs": [
        {
          "output_type": "stream",
          "text": [
            "Model: \"functional_3\"\n",
            "_________________________________________________________________\n",
            "Layer (type)                 Output Shape              Param #   \n",
            "=================================================================\n",
            "input_2 (InputLayer)         [(None, 28, 28)]          0         \n",
            "_________________________________________________________________\n",
            "simple_rnn_2 (SimpleRNN)     (None, 28, 128)           20096     \n",
            "_________________________________________________________________\n",
            "simple_rnn_3 (SimpleRNN)     (None, 28, 128)           32896     \n",
            "_________________________________________________________________\n",
            "simple_rnn_4 (SimpleRNN)     (None, 28, 128)           32896     \n",
            "_________________________________________________________________\n",
            "dense_3 (Dense)              (None, 28, 10)            1290      \n",
            "=================================================================\n",
            "Total params: 87,178\n",
            "Trainable params: 87,178\n",
            "Non-trainable params: 0\n",
            "_________________________________________________________________\n"
          ],
          "name": "stdout"
        }
      ]
    },
    {
      "cell_type": "code",
      "metadata": {
        "colab": {
          "base_uri": "https://localhost:8080/",
          "height": 904
        },
        "id": "m9cAze-V9XRS",
        "outputId": "5f8dcb08-fbf4-4c6d-b945-2df8e6aa5325"
      },
      "source": [
        "# Compilamos y entrenamos el modelo\n",
        "NUM_EPOCHS = 20\n",
        "model.compile(loss='sparse_categorical_crossentropy',\n",
        "              metrics=['accuracy'], optimizer='adam')\n",
        "history = model.fit(mnist_train.map(tile_labels), epochs=NUM_EPOCHS)\n",
        "\n",
        "# Comparamos con la exactitud que calcula Keras\n",
        "loss, accuracy = model.evaluate(test_images, test_labels_tiled, verbose=0)\n",
        "model.save('saved_model/rnn_many_to_many')\n",
        "print('Exactitud calculada por Keras :', accuracy)\n",
        "\n",
        "# Juntamos los resultados\n",
        "resultados = resultados.append({\n",
        "    'modelo': 'RNN simple, many-to-many -- 3CapasProfundidad',\n",
        "    'num_units': NUM_UNITS,\n",
        "    'num_epochs': NUM_EPOCHS,\n",
        "    'exactitud (accuracy)': accuracy,\n",
        "    #'exactitud (accuracy) en último paso': test_acc_last\n",
        "}, ignore_index=True)\n",
        "resultados.to_excel('resultados.xlsx', index=False)\n",
        "resultados"
      ],
      "execution_count": 27,
      "outputs": [
        {
          "output_type": "stream",
          "text": [
            "Epoch 1/20\n",
            "30/30 [==============================] - 3s 94ms/step - loss: 1.8605 - accuracy: 0.3421\n",
            "Epoch 2/20\n",
            "30/30 [==============================] - 3s 95ms/step - loss: 1.2620 - accuracy: 0.5581\n",
            "Epoch 3/20\n",
            "30/30 [==============================] - 3s 92ms/step - loss: 1.0492 - accuracy: 0.6345\n",
            "Epoch 4/20\n",
            "30/30 [==============================] - 3s 92ms/step - loss: 0.9403 - accuracy: 0.6724\n",
            "Epoch 5/20\n",
            "30/30 [==============================] - 3s 92ms/step - loss: 0.8819 - accuracy: 0.6911\n",
            "Epoch 6/20\n",
            "30/30 [==============================] - 3s 93ms/step - loss: 0.8509 - accuracy: 0.6997\n",
            "Epoch 7/20\n",
            "30/30 [==============================] - 3s 93ms/step - loss: 0.8191 - accuracy: 0.7109\n",
            "Epoch 8/20\n",
            "30/30 [==============================] - 3s 92ms/step - loss: 0.7982 - accuracy: 0.7163\n",
            "Epoch 9/20\n",
            "30/30 [==============================] - 3s 96ms/step - loss: 0.7799 - accuracy: 0.7227\n",
            "Epoch 10/20\n",
            "30/30 [==============================] - 3s 95ms/step - loss: 0.7653 - accuracy: 0.7261\n",
            "Epoch 11/20\n",
            "30/30 [==============================] - 3s 99ms/step - loss: 0.7515 - accuracy: 0.7301\n",
            "Epoch 12/20\n",
            "30/30 [==============================] - 3s 97ms/step - loss: 0.7369 - accuracy: 0.7356\n",
            "Epoch 13/20\n",
            "30/30 [==============================] - 3s 93ms/step - loss: 0.7292 - accuracy: 0.7370\n",
            "Epoch 14/20\n",
            "30/30 [==============================] - 3s 94ms/step - loss: 0.7240 - accuracy: 0.7386\n",
            "Epoch 15/20\n",
            "30/30 [==============================] - 3s 94ms/step - loss: 0.7133 - accuracy: 0.7421\n",
            "Epoch 16/20\n",
            "30/30 [==============================] - 3s 95ms/step - loss: 0.7017 - accuracy: 0.7459\n",
            "Epoch 17/20\n",
            "30/30 [==============================] - 3s 94ms/step - loss: 0.6990 - accuracy: 0.7466\n",
            "Epoch 18/20\n",
            "30/30 [==============================] - 3s 91ms/step - loss: 0.6974 - accuracy: 0.7467\n",
            "Epoch 19/20\n",
            "30/30 [==============================] - 3s 94ms/step - loss: 0.6890 - accuracy: 0.7490\n",
            "Epoch 20/20\n",
            "30/30 [==============================] - 3s 98ms/step - loss: 0.6833 - accuracy: 0.7512\n",
            "INFO:tensorflow:Assets written to: saved_model/rnn_many_to_many/assets\n"
          ],
          "name": "stdout"
        },
        {
          "output_type": "stream",
          "text": [
            "INFO:tensorflow:Assets written to: saved_model/rnn_many_to_many/assets\n"
          ],
          "name": "stderr"
        },
        {
          "output_type": "stream",
          "text": [
            "Exactitud calculada por Keras : 0.7496857047080994\n"
          ],
          "name": "stdout"
        },
        {
          "output_type": "execute_result",
          "data": {
            "text/html": [
              "<div>\n",
              "<style scoped>\n",
              "    .dataframe tbody tr th:only-of-type {\n",
              "        vertical-align: middle;\n",
              "    }\n",
              "\n",
              "    .dataframe tbody tr th {\n",
              "        vertical-align: top;\n",
              "    }\n",
              "\n",
              "    .dataframe thead th {\n",
              "        text-align: right;\n",
              "    }\n",
              "</style>\n",
              "<table border=\"1\" class=\"dataframe\">\n",
              "  <thead>\n",
              "    <tr style=\"text-align: right;\">\n",
              "      <th></th>\n",
              "      <th>modelo</th>\n",
              "      <th>num_units</th>\n",
              "      <th>num_epochs</th>\n",
              "      <th>exactitud (accuracy)</th>\n",
              "      <th>exactitud (accuracy) en último paso</th>\n",
              "    </tr>\n",
              "  </thead>\n",
              "  <tbody>\n",
              "    <tr>\n",
              "      <th>0</th>\n",
              "      <td>RNN simple, many-to-one -- keras.layers.SimpleRNN</td>\n",
              "      <td>128</td>\n",
              "      <td>5</td>\n",
              "      <td>0.934200</td>\n",
              "      <td>NaN</td>\n",
              "    </tr>\n",
              "    <tr>\n",
              "      <th>1</th>\n",
              "      <td>RNN simple, many-to-one -- MiCeldaRNN</td>\n",
              "      <td>128</td>\n",
              "      <td>5</td>\n",
              "      <td>0.925200</td>\n",
              "      <td>NaN</td>\n",
              "    </tr>\n",
              "    <tr>\n",
              "      <th>2</th>\n",
              "      <td>RNN simple, many-to-many -- BasicRNNCell</td>\n",
              "      <td>128</td>\n",
              "      <td>5</td>\n",
              "      <td>0.584139</td>\n",
              "      <td>0.8047</td>\n",
              "    </tr>\n",
              "    <tr>\n",
              "      <th>3</th>\n",
              "      <td>RNN simple, many-to-many -- 3CapasProfundidad</td>\n",
              "      <td>128</td>\n",
              "      <td>20</td>\n",
              "      <td>0.749686</td>\n",
              "      <td>NaN</td>\n",
              "    </tr>\n",
              "  </tbody>\n",
              "</table>\n",
              "</div>"
            ],
            "text/plain": [
              "                                              modelo  ... exactitud (accuracy) en último paso\n",
              "0  RNN simple, many-to-one -- keras.layers.SimpleRNN  ...                                 NaN\n",
              "1              RNN simple, many-to-one -- MiCeldaRNN  ...                                 NaN\n",
              "2           RNN simple, many-to-many -- BasicRNNCell  ...                              0.8047\n",
              "3      RNN simple, many-to-many -- 3CapasProfundidad  ...                                 NaN\n",
              "\n",
              "[4 rows x 5 columns]"
            ]
          },
          "metadata": {
            "tags": []
          },
          "execution_count": 27
        }
      ]
    },
    {
      "cell_type": "code",
      "metadata": {
        "colab": {
          "base_uri": "https://localhost:8080/"
        },
        "id": "HcAug4XSBS8R",
        "outputId": "cfd27182-78fc-4085-d113-e9212c155933"
      },
      "source": [
        "# Mostremos algunas imágenes aleatorias del conjunto de pruebas\n",
        "NUM_SAMPLES = 2\n",
        "for IMAGE_INDEX in np.random.randint(test_images.shape[0], size=NUM_SAMPLES):\n",
        "  print(\"Imagen #\", IMAGE_INDEX)\n",
        "  print(\"Label :\", test_labels[IMAGE_INDEX])\n",
        "  visualize_preds(test_images[IMAGE_INDEX], test_pred_proba[IMAGE_INDEX])"
      ],
      "execution_count": 28,
      "outputs": [
        {
          "output_type": "stream",
          "text": [
            "Imagen # 4635\n",
            "Label : 9\n",
            "Filas de la imagen             Predicción     Probabilidad\n",
            "BBBBBBBBBBBBBBBBBBBBBBBBBBBB        1         0.1064847\n",
            "BBBBBBBBBBBBBBBBBBBBBBBBBBBB        1         0.1113526\n",
            "BBBBBBBBBBBBBBBBBBBBBBBBBBBB        1         0.1177803\n",
            "BBBBBBBBBBBBBBBBBBBBBBBBBBBB        1         0.1261280\n",
            "BBBBBBBBBBBBBBBBBBBBBBBBBBBB        1         0.1405393\n",
            "BBBBBBBBBBBBBBBBBBBBBBBBBBBB        7         0.1722268\n",
            "BBBBBBBBBBBBBBBBBBBBBBBBBBBB        7         0.2425622\n",
            "BBBBBBBBBBBBBB#.  @BBBBBBBBB        7         0.2691915\n",
            "BBBBBBBBBBBBB* -#.=BBBBBBBBB        1         0.3534781\n",
            "BBBBBBBBBBBB+ -BB=:BBBBBBBBB        7         0.3832090\n",
            "BBBBBBBBBBB+ :@BB*:BBBBBBBBB        7         0.4343766\n",
            "BBBBBBBBBB# :@BB@+:BBBBBBBBB        7         0.4327148\n",
            "BBBBBBBBB@:.@BB+  :BBBBBBBBB        7         0.3092745\n",
            "BBBBBBBBB# +B%.   :BBBBBBBBB        9         0.3519238\n",
            "BBBBBBBBB:.%* .   :BBBBBBBBB        9         0.4548327\n",
            "BBBBBBBB% .. -#.  =BBBBBBBBB        9         0.5128206\n",
            "BBBBBBBBB+ -%B- *-%BBBBBBBBB        9         0.5783612\n",
            "BBBBBBBBBBBBB@ -BBBBBBBBBBBB        9         0.5102704\n",
            "BBBBBBBBBBBBB- %BBBBBBBBBBBB        9         0.5661812\n",
            "BBBBBBBBBBBB% =BBBBBBBBBBBBB        9         0.6599323\n",
            "BBBBBBBBBBBB= %BBBBBBBBBBBBB        9         0.7023257\n",
            "BBBBBBBBBBB%.=BBBBBBBBBBBBBB        9         0.7275253\n",
            "BBBBBBBBBBB=.%BBBBBBBBBBBBBB        9         0.7482689\n",
            "BBBBBBBBBBB.=BBBBBBBBBBBBBBB        9         0.7623088\n",
            "BBBBBBBBBB# *BBBBBBBBBBBBBBB        9         0.7784435\n",
            "BBBBBBBBBB#.@BBBBBBBBBBBBBBB        9         0.7825886\n",
            "BBBBBBBBBB%.%BBBBBBBBBBBBBBB        9         0.7874854\n",
            "BBBBBBBBBBBBBBBBBBBBBBBBBBBB        9         0.7937183\n",
            "\n",
            "Imagen # 692\n",
            "Label : 6\n",
            "Filas de la imagen             Predicción     Probabilidad\n",
            "BBBBBBBBBBBBBBBBBBBBBBBBBBBB        1         0.1064847\n",
            "BBBBBBBBBBBBBBBBBBBBBBBBBBBB        1         0.1113526\n",
            "BBBBBBBBBBBBBBBBBBBBBBBBBBBB        1         0.1177803\n",
            "BBBBBBBBBBBBBBBBBBBBBBBBBBBB        1         0.1261280\n",
            "BBBBBBBBBBBBBBBBBBB@+--:@BBB        0         0.2485843\n",
            "BBBBBBBBBBBBBBBBBB+     =BBB        0         0.4311327\n",
            "BBBBBBBBBBBBBBBB@+   .  =BBB        0         0.4540389\n",
            "BBBBBBBBBBBBBBB%:  .:::.+BBB        0         0.3958435\n",
            "BBBBBBBBBBBBBB@   :::.%@BBBB        5         0.3629296\n",
            "BBBBBBBBBBBBB#.  *@B@%BBBBBB        5         0.2883870\n",
            "BBBBBBBBBBBB*.  :BBBBBBBBBBB        6         0.2732182\n",
            "BBBBBBBBBBBB:  =@BBBBBBBBBBB        6         0.3002529\n",
            "BBBBBBBBBBB+  :BBBBBBBBBBBBB        6         0.3537494\n",
            "BBBBBBBBBB+  =BBBBBBBBBBBBBB        6         0.4563402\n",
            "BBBBBBBBB%   *BBBBBBBBBBBBBB        6         0.5473335\n",
            "BBBBBBBBB-  .=BBBBBBBBBBBBBB        6         0.6655544\n",
            "BBBBBBBB+   %=::@BBBBBBBBBBB        6         0.8196914\n",
            "BBBBBBB@  :=@@. +BBBBBBBBBBB        6         0.8852940\n",
            "BBBBBBB@  :BBB- -BBBBBBBBBBB        6         0.9025330\n",
            "BBBBBBB+  :BB*  =BBBBBBBBBBB        6         0.9363508\n",
            "BBBBBBB=  :B-   =BBBBBBBBBBB        6         0.9597229\n",
            "BBBBBBB%   .   :@BBBBBBBBBBB        6         0.9774724\n",
            "BBBBBBB@=    *+@BBBBBBBBBBBB        6         0.9862357\n",
            "BBBBBBBB@:..+BBBBBBBBBBBBBBB        6         0.9881613\n",
            "BBBBBBBBBBBBBBBBBBBBBBBBBBBB        6         0.9891760\n",
            "BBBBBBBBBBBBBBBBBBBBBBBBBBBB        6         0.9908761\n",
            "BBBBBBBBBBBBBBBBBBBBBBBBBBBB        6         0.9910615\n",
            "BBBBBBBBBBBBBBBBBBBBBBBBBBBB        6         0.9911950\n",
            "\n"
          ],
          "name": "stdout"
        }
      ]
    },
    {
      "cell_type": "code",
      "metadata": {
        "colab": {
          "base_uri": "https://localhost:8080/"
        },
        "id": "3GHy4AmJClKh",
        "outputId": "fdd4033e-46d3-4554-d514-015198bfc264"
      },
      "source": [
        "inputs  = keras.Input(shape=(NUM_STEPS, INPUT_SIZE))\n",
        "x = keras.layers.Bidirectional(keras.layers.SimpleRNN(NUM_UNITS,return_sequences=True))(inputs)\n",
        "outputs = keras.layers.Dense(NUM_CLASSES, activation='softmax')(x)\n",
        "\n",
        "model = keras.Model(inputs=inputs, outputs=outputs)\n",
        "\n",
        "model.summary()\n",
        "\n",
        "  #keras.layers.Bidirectional(SimpleRNN(5)),"
      ],
      "execution_count": 29,
      "outputs": [
        {
          "output_type": "stream",
          "text": [
            "Model: \"functional_5\"\n",
            "_________________________________________________________________\n",
            "Layer (type)                 Output Shape              Param #   \n",
            "=================================================================\n",
            "input_3 (InputLayer)         [(None, 28, 28)]          0         \n",
            "_________________________________________________________________\n",
            "bidirectional (Bidirectional (None, 28, 256)           40192     \n",
            "_________________________________________________________________\n",
            "dense_4 (Dense)              (None, 28, 10)            2570      \n",
            "=================================================================\n",
            "Total params: 42,762\n",
            "Trainable params: 42,762\n",
            "Non-trainable params: 0\n",
            "_________________________________________________________________\n"
          ],
          "name": "stdout"
        }
      ]
    },
    {
      "cell_type": "code",
      "metadata": {
        "colab": {
          "base_uri": "https://localhost:8080/",
          "height": 935
        },
        "id": "HhyMziG7Cqui",
        "outputId": "752724c3-c678-4934-ae5c-04e98738ead9"
      },
      "source": [
        "# Compilamos y entrenamos el modelo\n",
        "NUM_EPOCHS = 20\n",
        "model.compile(loss='sparse_categorical_crossentropy',\n",
        "              metrics=['accuracy'], optimizer='adam')\n",
        "history = model.fit(mnist_train.map(tile_labels), epochs=NUM_EPOCHS)\n",
        "\n",
        "# Comparamos con la exactitud que calcula Keras\n",
        "loss, accuracy = model.evaluate(test_images, test_labels_tiled, verbose=0)\n",
        "model.save('saved_model/rnn_many_to_many')\n",
        "print('Exactitud calculada por Keras :', accuracy)\n",
        "\n",
        "# Juntamos los resultados\n",
        "resultados = resultados.append({\n",
        "    'modelo': 'RNN simple, many-to-many -- 1CapaBidireccional',\n",
        "    'num_units': NUM_UNITS,\n",
        "    'num_epochs': NUM_EPOCHS,\n",
        "    'exactitud (accuracy)': accuracy,\n",
        "    #'exactitud (accuracy) en último paso': test_acc_last\n",
        "}, ignore_index=True)\n",
        "resultados.to_excel('resultados.xlsx', index=False)\n",
        "resultados"
      ],
      "execution_count": 30,
      "outputs": [
        {
          "output_type": "stream",
          "text": [
            "Epoch 1/20\n",
            "30/30 [==============================] - 2s 80ms/step - loss: 1.9001 - accuracy: 0.3307\n",
            "Epoch 2/20\n",
            "30/30 [==============================] - 2s 77ms/step - loss: 1.3591 - accuracy: 0.5355\n",
            "Epoch 3/20\n",
            "30/30 [==============================] - 2s 75ms/step - loss: 0.9863 - accuracy: 0.6837\n",
            "Epoch 4/20\n",
            "30/30 [==============================] - 2s 78ms/step - loss: 0.7311 - accuracy: 0.7816\n",
            "Epoch 5/20\n",
            "30/30 [==============================] - 2s 80ms/step - loss: 0.5830 - accuracy: 0.8304\n",
            "Epoch 6/20\n",
            "30/30 [==============================] - 2s 75ms/step - loss: 0.4992 - accuracy: 0.8567\n",
            "Epoch 7/20\n",
            "30/30 [==============================] - 2s 79ms/step - loss: 0.4273 - accuracy: 0.8793\n",
            "Epoch 8/20\n",
            "30/30 [==============================] - 2s 77ms/step - loss: 0.3802 - accuracy: 0.8930\n",
            "Epoch 9/20\n",
            "30/30 [==============================] - 2s 81ms/step - loss: 0.3456 - accuracy: 0.9033\n",
            "Epoch 10/20\n",
            "30/30 [==============================] - 2s 78ms/step - loss: 0.3161 - accuracy: 0.9116\n",
            "Epoch 11/20\n",
            "30/30 [==============================] - 2s 76ms/step - loss: 0.2981 - accuracy: 0.9166\n",
            "Epoch 12/20\n",
            "30/30 [==============================] - 2s 78ms/step - loss: 0.2707 - accuracy: 0.9245\n",
            "Epoch 13/20\n",
            "30/30 [==============================] - 2s 78ms/step - loss: 0.2505 - accuracy: 0.9303\n",
            "Epoch 14/20\n",
            "30/30 [==============================] - 2s 77ms/step - loss: 0.2330 - accuracy: 0.9351\n",
            "Epoch 15/20\n",
            "30/30 [==============================] - 2s 82ms/step - loss: 0.2248 - accuracy: 0.9369\n",
            "Epoch 16/20\n",
            "30/30 [==============================] - 2s 77ms/step - loss: 0.2135 - accuracy: 0.9402\n",
            "Epoch 17/20\n",
            "30/30 [==============================] - 2s 80ms/step - loss: 0.2050 - accuracy: 0.9424\n",
            "Epoch 18/20\n",
            "30/30 [==============================] - 2s 75ms/step - loss: 0.1950 - accuracy: 0.9452\n",
            "Epoch 19/20\n",
            "30/30 [==============================] - 2s 76ms/step - loss: 0.1857 - accuracy: 0.9477\n",
            "Epoch 20/20\n",
            "30/30 [==============================] - 2s 76ms/step - loss: 0.1785 - accuracy: 0.9497\n",
            "INFO:tensorflow:Assets written to: saved_model/rnn_many_to_many/assets\n"
          ],
          "name": "stdout"
        },
        {
          "output_type": "stream",
          "text": [
            "INFO:tensorflow:Assets written to: saved_model/rnn_many_to_many/assets\n"
          ],
          "name": "stderr"
        },
        {
          "output_type": "stream",
          "text": [
            "Exactitud calculada por Keras : 0.9500499963760376\n"
          ],
          "name": "stdout"
        },
        {
          "output_type": "execute_result",
          "data": {
            "text/html": [
              "<div>\n",
              "<style scoped>\n",
              "    .dataframe tbody tr th:only-of-type {\n",
              "        vertical-align: middle;\n",
              "    }\n",
              "\n",
              "    .dataframe tbody tr th {\n",
              "        vertical-align: top;\n",
              "    }\n",
              "\n",
              "    .dataframe thead th {\n",
              "        text-align: right;\n",
              "    }\n",
              "</style>\n",
              "<table border=\"1\" class=\"dataframe\">\n",
              "  <thead>\n",
              "    <tr style=\"text-align: right;\">\n",
              "      <th></th>\n",
              "      <th>modelo</th>\n",
              "      <th>num_units</th>\n",
              "      <th>num_epochs</th>\n",
              "      <th>exactitud (accuracy)</th>\n",
              "      <th>exactitud (accuracy) en último paso</th>\n",
              "    </tr>\n",
              "  </thead>\n",
              "  <tbody>\n",
              "    <tr>\n",
              "      <th>0</th>\n",
              "      <td>RNN simple, many-to-one -- keras.layers.SimpleRNN</td>\n",
              "      <td>128</td>\n",
              "      <td>5</td>\n",
              "      <td>0.934200</td>\n",
              "      <td>NaN</td>\n",
              "    </tr>\n",
              "    <tr>\n",
              "      <th>1</th>\n",
              "      <td>RNN simple, many-to-one -- MiCeldaRNN</td>\n",
              "      <td>128</td>\n",
              "      <td>5</td>\n",
              "      <td>0.925200</td>\n",
              "      <td>NaN</td>\n",
              "    </tr>\n",
              "    <tr>\n",
              "      <th>2</th>\n",
              "      <td>RNN simple, many-to-many -- BasicRNNCell</td>\n",
              "      <td>128</td>\n",
              "      <td>5</td>\n",
              "      <td>0.584139</td>\n",
              "      <td>0.8047</td>\n",
              "    </tr>\n",
              "    <tr>\n",
              "      <th>3</th>\n",
              "      <td>RNN simple, many-to-many -- 3CapasProfundidad</td>\n",
              "      <td>128</td>\n",
              "      <td>20</td>\n",
              "      <td>0.749686</td>\n",
              "      <td>NaN</td>\n",
              "    </tr>\n",
              "    <tr>\n",
              "      <th>4</th>\n",
              "      <td>RNN simple, many-to-many -- 1CapaBidireccional</td>\n",
              "      <td>128</td>\n",
              "      <td>20</td>\n",
              "      <td>0.950050</td>\n",
              "      <td>NaN</td>\n",
              "    </tr>\n",
              "  </tbody>\n",
              "</table>\n",
              "</div>"
            ],
            "text/plain": [
              "                                              modelo  ... exactitud (accuracy) en último paso\n",
              "0  RNN simple, many-to-one -- keras.layers.SimpleRNN  ...                                 NaN\n",
              "1              RNN simple, many-to-one -- MiCeldaRNN  ...                                 NaN\n",
              "2           RNN simple, many-to-many -- BasicRNNCell  ...                              0.8047\n",
              "3      RNN simple, many-to-many -- 3CapasProfundidad  ...                                 NaN\n",
              "4     RNN simple, many-to-many -- 1CapaBidireccional  ...                                 NaN\n",
              "\n",
              "[5 rows x 5 columns]"
            ]
          },
          "metadata": {
            "tags": []
          },
          "execution_count": 30
        }
      ]
    },
    {
      "cell_type": "code",
      "metadata": {
        "colab": {
          "base_uri": "https://localhost:8080/"
        },
        "id": "6SeHX38oCtkI",
        "outputId": "dd093ed1-e30d-4527-ed4d-f57abaddbfa1"
      },
      "source": [
        "# Mostremos algunas imágenes aleatorias del conjunto de pruebas\n",
        "NUM_SAMPLES = 2\n",
        "for IMAGE_INDEX in np.random.randint(test_images.shape[0], size=NUM_SAMPLES):\n",
        "  print(\"Imagen #\", IMAGE_INDEX)\n",
        "  print(\"Label :\", test_labels[IMAGE_INDEX])\n",
        "  visualize_preds(test_images[IMAGE_INDEX], test_pred_proba[IMAGE_INDEX])"
      ],
      "execution_count": 31,
      "outputs": [
        {
          "output_type": "stream",
          "text": [
            "Imagen # 274\n",
            "Label : 1\n",
            "Filas de la imagen             Predicción     Probabilidad\n",
            "BBBBBBBBBBBBBBBBBBBBBBBBBBBB        1         0.1064847\n",
            "BBBBBBBBBBBBBBBBBBBBBBBBBBBB        1         0.1113526\n",
            "BBBBBBBBBBBBBBBBBBBBBBBBBBBB        1         0.1177803\n",
            "BBBBBBBBBBBBBBBBBBBBBBBBBBBB        1         0.1261280\n",
            "BBBBBBBBBBBBBBBBBBBBBB-@BBBB        1         0.1258477\n",
            "BBBBBBBBBBBBBBBBBBBBB= @BBBB        5         0.1609206\n",
            "BBBBBBBBBBBBBBBBBBB#- .@BBBB        0         0.2578599\n",
            "BBBBBBBBBBBBBBBBBB%. -%BBBBB        4         0.3137773\n",
            "BBBBBBBBBBBBBBBBB%  -%BBBBBB        4         0.4222594\n",
            "BBBBBBBBBBBBBBBB=. -BBBBBBBB        4         0.4589259\n",
            "BBBBBBBBBBBBBBB#. .#BBBBBBBB        4         0.4237268\n",
            "BBBBBBBBBBBBBB%.  %BBBBBBBBB        4         0.3631960\n",
            "BBBBBBBBBBBBB%   -BBBBBBBBBB        1         0.4970810\n",
            "BBBBBBBBBBBB@.  *@BBBBBBBBBB        1         0.7018203\n",
            "BBBBBBBBBBBB=  -@BBBBBBBBBBB        1         0.8737467\n",
            "BBBBBBBBBBB=  -@BBBBBBBBBBBB        1         0.9140400\n",
            "BBBBBBBBBB%.  BBBBBBBBBBBBBB        1         0.9365404\n",
            "BBBBBBBBBB. .*BBBBBBBBBBBBBB        1         0.9578566\n",
            "BBBBBBBBB*  *BBBBBBBBBBBBBBB        1         0.9709315\n",
            "BBBBBBBBB=  #BBBBBBBBBBBBBBB        1         0.9771088\n",
            "BBBBBBBB@- -BBBBBBBBBBBBBBBB        1         0.9781148\n",
            "BBBBBBBB@  .+-BBBBBBBBBBBBBB        1         0.9639572\n",
            "BBBBBBBB@.   *BBBBBBBBBBBBBB        1         0.9347327\n",
            "BBBBBBBBB=  +BBBBBBBBBBBBBBB        1         0.9099848\n",
            "BBBBBBBBBBBBBBBBBBBBBBBBBBBB        1         0.9564160\n",
            "BBBBBBBBBBBBBBBBBBBBBBBBBBBB        1         0.9774565\n",
            "BBBBBBBBBBBBBBBBBBBBBBBBBBBB        1         0.9853672\n",
            "BBBBBBBBBBBBBBBBBBBBBBBBBBBB        1         0.9892315\n",
            "\n",
            "Imagen # 8003\n",
            "Label : 8\n",
            "Filas de la imagen             Predicción     Probabilidad\n",
            "BBBBBBBBBBBBBBBBBBBBBBBBBBBB        1         0.1064847\n",
            "BBBBBBBBBBBBBBBBBBBBBBBBBBBB        1         0.1113526\n",
            "BBBBBBBBBBBBBBBBBBBBBBBBBBBB        1         0.1177803\n",
            "BBBBBBBBBBBBBBBBBBBBBBBBBBBB        1         0.1261280\n",
            "BBBBBBBBBBBBBBBBBBBBBBBBBBBB        1         0.1405393\n",
            "BBBBBBBBBBBBBBBBBBBBBBBBBBBB        7         0.1722268\n",
            "BBBBBBBBBBBBBBBBBBBBBBBBBBBB        7         0.2425622\n",
            "BBBBBBBBBBBBBBBBBBBBBBBBBBBB        7         0.3211801\n",
            "BBBBBBBBBBBBBBBBBBBBBBBBBBBB        7         0.3747443\n",
            "BBBBBBBBBBBBBBBBBBBBBBBBBBBB        7         0.4067473\n",
            "BBBBBBBBBBBBBBBBBBBBBBBBBB@@        7         0.4041547\n",
            "BBBBBBBBBBB%*=-.=@BB@#*=-..=        1         0.4647683\n",
            "BBBBBBBBB%. .===.:+- .==*%BB        1         0.3030427\n",
            "BBBBBBBBB--@BB#- :=*@BBBBBBB        4         0.3566141\n",
            "BBBBBBBBB+ *+- =%BBBBBBBBBBB        1         0.4732232\n",
            "BBBBBBBBBB:  *BBBBBBBBBBBBBB        1         0.4365802\n",
            "BBBBBBBBB::*.-BBBBBBBBBBBBBB        4         0.3081280\n",
            "BBBBBBBB=.@B%.-BBBBBBBBBBBBB        5         0.4660662\n",
            "BBBBBBBB.+BBB-:BBBBBBBBBBBBB        5         0.6276212\n",
            "BBBBBBBB.:+=- *BBBBBBBBBBBBB        5         0.7112528\n",
            "BBBBBBBB@=..=%BBBBBBBBBBBBBB        5         0.7567861\n",
            "BBBBBBBBBBBBBBBBBBBBBBBBBBBB        5         0.7806200\n",
            "BBBBBBBBBBBBBBBBBBBBBBBBBBBB        5         0.8002579\n",
            "BBBBBBBBBBBBBBBBBBBBBBBBBBBB        5         0.8229401\n",
            "BBBBBBBBBBBBBBBBBBBBBBBBBBBB        5         0.8289708\n",
            "BBBBBBBBBBBBBBBBBBBBBBBBBBBB        5         0.8336800\n",
            "BBBBBBBBBBBBBBBBBBBBBBBBBBBB        5         0.8262752\n",
            "BBBBBBBBBBBBBBBBBBBBBBBBBBBB        5         0.8136368\n",
            "\n"
          ],
          "name": "stdout"
        }
      ]
    },
    {
      "cell_type": "markdown",
      "metadata": {
        "id": "Nftcdj-2L8jf"
      },
      "source": [
        "Se verifica que para este ejemplo el considerar la red bidireccional dio mejores resultados que adicionando profundidad en la capa."
      ]
    }
  ]
}
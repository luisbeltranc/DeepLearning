{
  "nbformat": 4,
  "nbformat_minor": 0,
  "metadata": {
    "anaconda-cloud": {},
    "kernelspec": {
      "name": "python3",
      "display_name": "Python 3"
    },
    "language_info": {
      "codemirror_mode": {
        "name": "ipython",
        "version": 3
      },
      "file_extension": ".py",
      "mimetype": "text/x-python",
      "name": "python",
      "nbconvert_exporter": "python",
      "pygments_lexer": "ipython3",
      "version": "3.5.4"
    },
    "colab": {
      "name": "RNNs_con_TensorFlow_2_y_Keras_(MNIST)_LSTM_y_GRU.ipynb",
      "provenance": [],
      "collapsed_sections": [],
      "include_colab_link": true
    },
    "accelerator": "GPU",
    "widgets": {
      "application/vnd.jupyter.widget-state+json": {
        "f6f6f8df56734a83a4d13129e5e1fb1d": {
          "model_module": "@jupyter-widgets/controls",
          "model_name": "HBoxModel",
          "state": {
            "_view_name": "HBoxView",
            "_dom_classes": [],
            "_model_name": "HBoxModel",
            "_view_module": "@jupyter-widgets/controls",
            "_model_module_version": "1.5.0",
            "_view_count": null,
            "_view_module_version": "1.5.0",
            "box_style": "",
            "layout": "IPY_MODEL_3118149210f1499caa5ba5e7ce926bfb",
            "_model_module": "@jupyter-widgets/controls",
            "children": [
              "IPY_MODEL_c8747e491b9c4e4aa571f686b31d1f8e",
              "IPY_MODEL_740e76ab473d417699172c0a1dd4d3db"
            ]
          }
        },
        "3118149210f1499caa5ba5e7ce926bfb": {
          "model_module": "@jupyter-widgets/base",
          "model_name": "LayoutModel",
          "state": {
            "_view_name": "LayoutView",
            "grid_template_rows": null,
            "right": null,
            "justify_content": null,
            "_view_module": "@jupyter-widgets/base",
            "overflow": null,
            "_model_module_version": "1.2.0",
            "_view_count": null,
            "flex_flow": null,
            "width": null,
            "min_width": null,
            "border": null,
            "align_items": null,
            "bottom": null,
            "_model_module": "@jupyter-widgets/base",
            "top": null,
            "grid_column": null,
            "overflow_y": null,
            "overflow_x": null,
            "grid_auto_flow": null,
            "grid_area": null,
            "grid_template_columns": null,
            "flex": null,
            "_model_name": "LayoutModel",
            "justify_items": null,
            "grid_row": null,
            "max_height": null,
            "align_content": null,
            "visibility": null,
            "align_self": null,
            "height": null,
            "min_height": null,
            "padding": null,
            "grid_auto_rows": null,
            "grid_gap": null,
            "max_width": null,
            "order": null,
            "_view_module_version": "1.2.0",
            "grid_template_areas": null,
            "object_position": null,
            "object_fit": null,
            "grid_auto_columns": null,
            "margin": null,
            "display": null,
            "left": null
          }
        },
        "c8747e491b9c4e4aa571f686b31d1f8e": {
          "model_module": "@jupyter-widgets/controls",
          "model_name": "FloatProgressModel",
          "state": {
            "_view_name": "ProgressView",
            "style": "IPY_MODEL_a91396291721484286ced554e5d3678a",
            "_dom_classes": [],
            "description": "Dl Completed...: 100%",
            "_model_name": "FloatProgressModel",
            "bar_style": "success",
            "max": 4,
            "_view_module": "@jupyter-widgets/controls",
            "_model_module_version": "1.5.0",
            "value": 4,
            "_view_count": null,
            "_view_module_version": "1.5.0",
            "orientation": "horizontal",
            "min": 0,
            "description_tooltip": null,
            "_model_module": "@jupyter-widgets/controls",
            "layout": "IPY_MODEL_28e6ffbde3aa4cb19595659073360bce"
          }
        },
        "740e76ab473d417699172c0a1dd4d3db": {
          "model_module": "@jupyter-widgets/controls",
          "model_name": "HTMLModel",
          "state": {
            "_view_name": "HTMLView",
            "style": "IPY_MODEL_33a2c1bdba8c44c7b056657cc15fa624",
            "_dom_classes": [],
            "description": "",
            "_model_name": "HTMLModel",
            "placeholder": "​",
            "_view_module": "@jupyter-widgets/controls",
            "_model_module_version": "1.5.0",
            "value": " 4/4 [00:05&lt;00:00,  1.47s/ file]",
            "_view_count": null,
            "_view_module_version": "1.5.0",
            "description_tooltip": null,
            "_model_module": "@jupyter-widgets/controls",
            "layout": "IPY_MODEL_6badcd4661be4726b04ab8641582c662"
          }
        },
        "a91396291721484286ced554e5d3678a": {
          "model_module": "@jupyter-widgets/controls",
          "model_name": "ProgressStyleModel",
          "state": {
            "_view_name": "StyleView",
            "_model_name": "ProgressStyleModel",
            "description_width": "initial",
            "_view_module": "@jupyter-widgets/base",
            "_model_module_version": "1.5.0",
            "_view_count": null,
            "_view_module_version": "1.2.0",
            "bar_color": null,
            "_model_module": "@jupyter-widgets/controls"
          }
        },
        "28e6ffbde3aa4cb19595659073360bce": {
          "model_module": "@jupyter-widgets/base",
          "model_name": "LayoutModel",
          "state": {
            "_view_name": "LayoutView",
            "grid_template_rows": null,
            "right": null,
            "justify_content": null,
            "_view_module": "@jupyter-widgets/base",
            "overflow": null,
            "_model_module_version": "1.2.0",
            "_view_count": null,
            "flex_flow": null,
            "width": null,
            "min_width": null,
            "border": null,
            "align_items": null,
            "bottom": null,
            "_model_module": "@jupyter-widgets/base",
            "top": null,
            "grid_column": null,
            "overflow_y": null,
            "overflow_x": null,
            "grid_auto_flow": null,
            "grid_area": null,
            "grid_template_columns": null,
            "flex": null,
            "_model_name": "LayoutModel",
            "justify_items": null,
            "grid_row": null,
            "max_height": null,
            "align_content": null,
            "visibility": null,
            "align_self": null,
            "height": null,
            "min_height": null,
            "padding": null,
            "grid_auto_rows": null,
            "grid_gap": null,
            "max_width": null,
            "order": null,
            "_view_module_version": "1.2.0",
            "grid_template_areas": null,
            "object_position": null,
            "object_fit": null,
            "grid_auto_columns": null,
            "margin": null,
            "display": null,
            "left": null
          }
        },
        "33a2c1bdba8c44c7b056657cc15fa624": {
          "model_module": "@jupyter-widgets/controls",
          "model_name": "DescriptionStyleModel",
          "state": {
            "_view_name": "StyleView",
            "_model_name": "DescriptionStyleModel",
            "description_width": "",
            "_view_module": "@jupyter-widgets/base",
            "_model_module_version": "1.5.0",
            "_view_count": null,
            "_view_module_version": "1.2.0",
            "_model_module": "@jupyter-widgets/controls"
          }
        },
        "6badcd4661be4726b04ab8641582c662": {
          "model_module": "@jupyter-widgets/base",
          "model_name": "LayoutModel",
          "state": {
            "_view_name": "LayoutView",
            "grid_template_rows": null,
            "right": null,
            "justify_content": null,
            "_view_module": "@jupyter-widgets/base",
            "overflow": null,
            "_model_module_version": "1.2.0",
            "_view_count": null,
            "flex_flow": null,
            "width": null,
            "min_width": null,
            "border": null,
            "align_items": null,
            "bottom": null,
            "_model_module": "@jupyter-widgets/base",
            "top": null,
            "grid_column": null,
            "overflow_y": null,
            "overflow_x": null,
            "grid_auto_flow": null,
            "grid_area": null,
            "grid_template_columns": null,
            "flex": null,
            "_model_name": "LayoutModel",
            "justify_items": null,
            "grid_row": null,
            "max_height": null,
            "align_content": null,
            "visibility": null,
            "align_self": null,
            "height": null,
            "min_height": null,
            "padding": null,
            "grid_auto_rows": null,
            "grid_gap": null,
            "max_width": null,
            "order": null,
            "_view_module_version": "1.2.0",
            "grid_template_areas": null,
            "object_position": null,
            "object_fit": null,
            "grid_auto_columns": null,
            "margin": null,
            "display": null,
            "left": null
          }
        }
      }
    }
  },
  "cells": [
    {
      "cell_type": "markdown",
      "metadata": {
        "id": "view-in-github",
        "colab_type": "text"
      },
      "source": [
        "<a href=\"https://colab.research.google.com/github/luisbeltranc/DeepLearning/blob/main/RNNs_con_TensorFlow_2_y_Keras_(MNIST)_LSTM_y_GRU.ipynb\" target=\"_parent\"><img src=\"https://colab.research.google.com/assets/colab-badge.svg\" alt=\"Open In Colab\"/></a>"
      ]
    },
    {
      "cell_type": "markdown",
      "metadata": {
        "id": "VE_2TPCwVjyL"
      },
      "source": [
        "# Redes Neuronales Recurrentes con TensorFlow 2 y Keras (2)\n",
        "\n",
        "En este ejercicio vamos a continuar nuestra experimentación con redes neuronales recurrentes usando TensorFlow 2 y Keras.\n",
        "\n",
        "## 1. Recapitulando\n",
        "\n",
        "Recapitulemos lo trabajado en el notebook anterior. Primero consolidemos algunas funciones de ayuda y preparemos el conjunto de datos:"
      ]
    },
    {
      "cell_type": "code",
      "metadata": {
        "id": "JrXE6lhTg2NO",
        "colab": {
          "base_uri": "https://localhost:8080/",
          "height": 202,
          "referenced_widgets": [
            "f6f6f8df56734a83a4d13129e5e1fb1d",
            "3118149210f1499caa5ba5e7ce926bfb",
            "c8747e491b9c4e4aa571f686b31d1f8e",
            "740e76ab473d417699172c0a1dd4d3db",
            "a91396291721484286ced554e5d3678a",
            "28e6ffbde3aa4cb19595659073360bce",
            "33a2c1bdba8c44c7b056657cc15fa624",
            "6badcd4661be4726b04ab8641582c662"
          ]
        },
        "outputId": "8f38fd02-b285-4372-8345-3b7f9b4e9c33"
      },
      "source": [
        "# Seleccionar TF 2 (directiva válida sólo en Colab)\n",
        "# En otros entornos: !pip install tensorflow-gpu==2.0\n",
        "%tensorflow_version 2.x\n",
        "import tensorflow as tf\n",
        "import tensorflow_datasets as tfds\n",
        "from tensorflow import keras\n",
        "assert tf.__version__ >= \"2.0\"\n",
        "\n",
        "import pandas as pd\n",
        "import matplotlib.pyplot as plt\n",
        "import numpy as np\n",
        "from sklearn.metrics import accuracy_score\n",
        "\n",
        "def preprocess_mnist(image, label):\n",
        "  \"\"\"Convierte una imagen de: shape=(28, 28, 1), dtype=tf.uint8\n",
        "  a: shape=(28, 28), dtype=tf.float32\n",
        "  \"\"\"\n",
        "  image = tf.squeeze(image, [-1])\n",
        "  image = tf.image.convert_image_dtype(image, tf.float32)\n",
        "  return image, label\n",
        "\n",
        "def tile_labels(images, labels):\n",
        "  \"\"\"Convierte labels de dimensiones (BATCH_SIZE,) a [BATCH_SIZE, 28]\"\"\"\n",
        "  labels2d = tf.expand_dims(labels, 1)\n",
        "  labels2d_tiled = tf.tile(labels2d, [1, 28])\n",
        "  return images, labels2d_tiled\n",
        "  \n",
        "def evaluar_mnist_many_to_many(modelo, x, y, num_units, num_epochs, resultados, nombre):\n",
        "  '''Evalúa predicciones de un modelo many-to-many entrenado con MNIST'''\n",
        "  pred_proba = modelo.predict_proba(x)  # (10000, 28, 10) Probabilidades para cada clase para cada paso de la secuencia\n",
        "  pred = np.argmax(pred_proba, axis=-1)  # (10000, 28) Clase predecida para cada paso de la secuencia \n",
        "  pred_flat = pred.reshape([-1])  # (280000,) pred \"flattened\" \n",
        "  labels_tiled = np.tile(np.expand_dims(y, axis=1), [1,28])  # (10000, 28) Clase \"target\" para cada paso de la secuencia\n",
        "  labels_tiled_flat = labels_tiled.reshape([-1])  # (280000,) labels_tiled \"flattened\" \n",
        "  acc_general = accuracy_score(labels_tiled_flat, pred_flat)  # Acc considerando cada paso de la secuencia\n",
        "  acc_last = accuracy_score(y, pred[:,-1])  # Acc considerando sólo la predicción final de la secuencia\n",
        "  resultado = {\n",
        "      'modelo': nombre,\n",
        "      'num_units': NUM_UNITS,\n",
        "      'num_epochs': NUM_EPOCHS,\n",
        "      'exactitud (accuracy)': acc_general,\n",
        "      'exactitud (accuracy) en último paso': acc_last\n",
        "  }\n",
        "  return pred_proba, resultado\n",
        "\n",
        "def visualize_preds(image, test_pred_proba, dataset='mnist'):\n",
        "  '''Visualiza predicciones de un modelo many-to-many entrenado con MNIST'''\n",
        "  fashion_mnist_label_names = [\"top\", \"trouser\", \"pullover\", \"dress\", \"coat\",\n",
        "\t\"sandal\", \"shirt\", \"sneaker\", \"bag\", \"ankle boot\"]\n",
        "  ascii_grayscale = \"B@%#*+=-:. \"\n",
        "  ascii_image = [[ascii_grayscale[int(round(pixel * (len(ascii_grayscale) - 1)))] for pixel in row] for row in image]\n",
        "  print(\"{:31}{:15}{:10}\".format(\n",
        "    \"Filas de la imagen\", \n",
        "    \"Predicción\",\n",
        "    \"Probabilidad\"\n",
        "      ))\n",
        "  for image_row, proba in zip(ascii_image, test_pred_proba):\n",
        "    pred = np.argmax(proba)\n",
        "    proba = np.max(proba)\n",
        "    if dataset == 'fashion_mnist':\n",
        "      label = ' ({})'.format(fashion_mnist_label_names[int(pred)])\n",
        "    else:\n",
        "      label = ''\n",
        "    print(\"{}{:9d}{:18.7f}{}\".format(\n",
        "      ''.join(image_row), \n",
        "      pred,\n",
        "      proba,\n",
        "      label\n",
        "      ))\n",
        "  print()\n",
        "\n",
        "\n",
        "NUM_STEPS = IMAGE_HEIGHT = 28\n",
        "INPUT_SIZE = IMAGE_WIDTH = 28\n",
        "NUM_UNITS = 128\n",
        "NUM_CLASSES = 10\n",
        "NUM_EPOCHS = 3\n",
        "\n",
        "dataset, info = tfds.load(name=\"mnist\", as_supervised=True, with_info=True, shuffle_files=False)\n",
        "mnist_train = dataset[\"train\"].map(preprocess_mnist).shuffle(10000).batch(2048).prefetch(1)\n",
        "for images, labels in dataset[\"test\"].map(preprocess_mnist).batch(10000).take(1):\n",
        "  test_images = images.numpy()\n",
        "  test_labels = labels.numpy()\n",
        "\n",
        "resultados = pd.DataFrame(columns=['modelo', 'num_units', 'num_epochs', 'exactitud (accuracy)'])"
      ],
      "execution_count": 1,
      "outputs": [
        {
          "output_type": "stream",
          "text": [
            "\u001b[1mDownloading and preparing dataset mnist/3.0.1 (download: 11.06 MiB, generated: 21.00 MiB, total: 32.06 MiB) to /root/tensorflow_datasets/mnist/3.0.1...\u001b[0m\n"
          ],
          "name": "stdout"
        },
        {
          "output_type": "stream",
          "text": [
            "WARNING:absl:Dataset mnist is hosted on GCS. It will automatically be downloaded to your\n",
            "local data directory. If you'd instead prefer to read directly from our public\n",
            "GCS bucket (recommended if you're running on GCP), you can instead pass\n",
            "`try_gcs=True` to `tfds.load` or set `data_dir=gs://tfds-data/datasets`.\n",
            "\n"
          ],
          "name": "stderr"
        },
        {
          "output_type": "display_data",
          "data": {
            "application/vnd.jupyter.widget-view+json": {
              "model_id": "f6f6f8df56734a83a4d13129e5e1fb1d",
              "version_minor": 0,
              "version_major": 2
            },
            "text/plain": [
              "HBox(children=(FloatProgress(value=0.0, description='Dl Completed...', max=4.0, style=ProgressStyle(descriptio…"
            ]
          },
          "metadata": {
            "tags": []
          }
        },
        {
          "output_type": "stream",
          "text": [
            "\n",
            "\n",
            "\u001b[1mDataset mnist downloaded and prepared to /root/tensorflow_datasets/mnist/3.0.1. Subsequent calls will reuse this data.\u001b[0m\n"
          ],
          "name": "stdout"
        }
      ]
    },
    {
      "cell_type": "markdown",
      "metadata": {
        "id": "ZYe7b1x7Mpk7"
      },
      "source": [
        "Probemos con un modelo con dos capas RNN apiladas:"
      ]
    },
    {
      "cell_type": "code",
      "metadata": {
        "id": "v4UhTkjfJnUa",
        "colab": {
          "base_uri": "https://localhost:8080/",
          "height": 525
        },
        "outputId": "c06e93a1-d1f7-4791-e713-2b0e82da050b"
      },
      "source": [
        "# Modelo many-to-many\n",
        "#model = tf.keras.models.Sequential([\n",
        "#      keras.layers.SimpleRNN(NUM_UNITS, input_shape=(NUM_STEPS, INPUT_SIZE), return_sequences=True),\n",
        "#      keras.layers.SimpleRNN(NUM_UNITS, return_sequences=True),\n",
        "#      keras.layers.Dense(NUM_CLASSES, activation='softmax')\n",
        "#])\n",
        "#print(model.summary())\n",
        "\n",
        "# Bidireccional sería:\n",
        "model = tf.keras.models.Sequential([\n",
        "       keras.layers.Bidirectional(keras.layers.SimpleRNN(NUM_UNITS, input_shape=(NUM_STEPS, INPUT_SIZE), return_sequences=True)),\n",
        "       keras.layers.Dense(NUM_CLASSES, activation='softmax')\n",
        "])\n",
        "\n",
        "model.compile(loss='sparse_categorical_crossentropy', metrics=['accuracy'], optimizer='adam')\n",
        "history = model.fit(mnist_train.map(tile_labels), epochs=NUM_EPOCHS)\n",
        "print(model.summary())\n",
        "\n",
        "test_pred_proba, resultado = evaluar_mnist_many_to_many(model, test_images, test_labels, NUM_UNITS, NUM_EPOCHS, resultados, \n",
        "                                                        'SimpleRNN, dos capas, many-to-many')\n",
        "resultados = resultados.append(resultado, ignore_index=True)\n",
        "resultados"
      ],
      "execution_count": 2,
      "outputs": [
        {
          "output_type": "stream",
          "text": [
            "Epoch 1/3\n",
            "30/30 [==============================] - 6s 186ms/step - loss: 1.8925 - accuracy: 0.3210\n",
            "Epoch 2/3\n",
            "30/30 [==============================] - 2s 67ms/step - loss: 1.2992 - accuracy: 0.5655\n",
            "Epoch 3/3\n",
            "30/30 [==============================] - 2s 70ms/step - loss: 0.9056 - accuracy: 0.7191\n",
            "Model: \"sequential\"\n",
            "_________________________________________________________________\n",
            "Layer (type)                 Output Shape              Param #   \n",
            "=================================================================\n",
            "bidirectional (Bidirectional (None, 28, 256)           40192     \n",
            "_________________________________________________________________\n",
            "dense (Dense)                (None, 28, 10)            2570      \n",
            "=================================================================\n",
            "Total params: 42,762\n",
            "Trainable params: 42,762\n",
            "Non-trainable params: 0\n",
            "_________________________________________________________________\n",
            "None\n",
            "WARNING:tensorflow:From <ipython-input-1-87af0289dea9>:30: Sequential.predict_proba (from tensorflow.python.keras.engine.sequential) is deprecated and will be removed after 2021-01-01.\n",
            "Instructions for updating:\n",
            "Please use `model.predict()` instead.\n"
          ],
          "name": "stdout"
        },
        {
          "output_type": "stream",
          "text": [
            "WARNING:tensorflow:From <ipython-input-1-87af0289dea9>:30: Sequential.predict_proba (from tensorflow.python.keras.engine.sequential) is deprecated and will be removed after 2021-01-01.\n",
            "Instructions for updating:\n",
            "Please use `model.predict()` instead.\n"
          ],
          "name": "stderr"
        },
        {
          "output_type": "execute_result",
          "data": {
            "text/html": [
              "<div>\n",
              "<style scoped>\n",
              "    .dataframe tbody tr th:only-of-type {\n",
              "        vertical-align: middle;\n",
              "    }\n",
              "\n",
              "    .dataframe tbody tr th {\n",
              "        vertical-align: top;\n",
              "    }\n",
              "\n",
              "    .dataframe thead th {\n",
              "        text-align: right;\n",
              "    }\n",
              "</style>\n",
              "<table border=\"1\" class=\"dataframe\">\n",
              "  <thead>\n",
              "    <tr style=\"text-align: right;\">\n",
              "      <th></th>\n",
              "      <th>modelo</th>\n",
              "      <th>num_units</th>\n",
              "      <th>num_epochs</th>\n",
              "      <th>exactitud (accuracy)</th>\n",
              "      <th>exactitud (accuracy) en último paso</th>\n",
              "    </tr>\n",
              "  </thead>\n",
              "  <tbody>\n",
              "    <tr>\n",
              "      <th>0</th>\n",
              "      <td>SimpleRNN, dos capas, many-to-many</td>\n",
              "      <td>128</td>\n",
              "      <td>3</td>\n",
              "      <td>0.7753</td>\n",
              "      <td>0.6475</td>\n",
              "    </tr>\n",
              "  </tbody>\n",
              "</table>\n",
              "</div>"
            ],
            "text/plain": [
              "                               modelo  ... exactitud (accuracy) en último paso\n",
              "0  SimpleRNN, dos capas, many-to-many  ...                              0.6475\n",
              "\n",
              "[1 rows x 5 columns]"
            ]
          },
          "metadata": {
            "tags": []
          },
          "execution_count": 2
        }
      ]
    },
    {
      "cell_type": "markdown",
      "metadata": {
        "id": "iPABqpQ7M9uy"
      },
      "source": [
        "Y visualicemos los resultados:"
      ]
    },
    {
      "cell_type": "code",
      "metadata": {
        "id": "0OFCDGvvVOCY",
        "colab": {
          "base_uri": "https://localhost:8080/"
        },
        "outputId": "1b051e4a-cd02-40ad-e8a1-60cd5f30e7d6"
      },
      "source": [
        "NUM_SAMPLES = 2\n",
        "for IMAGE_INDEX in np.random.randint(test_images.shape[0], size=NUM_SAMPLES):\n",
        "  print(\"Imagen #\", IMAGE_INDEX)\n",
        "  print(\"Label :\", test_labels[IMAGE_INDEX])\n",
        "  visualize_preds(test_images[IMAGE_INDEX], test_pred_proba[IMAGE_INDEX])\n"
      ],
      "execution_count": 3,
      "outputs": [
        {
          "output_type": "stream",
          "text": [
            "Imagen # 6257\n",
            "Label : 2\n",
            "Filas de la imagen             Predicción     Probabilidad\n",
            "BBBBBBBBBBBBBBBBBBBBBBBBBBBB        2         0.6709101\n",
            "BBBBBBBBBBBBBBBBBBBBBBBBBBBB        2         0.6500217\n",
            "BBBBBBBBBBBBBBBBBBBBBBBBBBBB        2         0.6196710\n",
            "BBBBBBBBBBBBBBBBBBBBBBBBBBBB        2         0.6210701\n",
            "BBBBBBBBBBBBB@%==+@BBBBBBBBB        2         0.6609697\n",
            "BBBBBBBBB@#-:      :%BBBBBBB        2         0.6357570\n",
            "BBBBBBB@=.          .+BBBBBB        2         0.5722681\n",
            "BBBBBB#.  .=#BBBB%*- .%BBBBB        2         0.6567498\n",
            "BBBBBB= :#@BBBBBBBBB= .BBBBB        2         0.5936154\n",
            "BBBBBB++@BBBBBBBBBBB@: BBBBB        2         0.5636172\n",
            "BBBBBBBBBBBBBBBBBBBBB-.BBBBB        2         0.5591592\n",
            "BBBBBBBBBBBBBBBBBBBB# *BBBBB        2         0.5755823\n",
            "BBBBBBBBBBBBBBBBBBBB-.@BBBBB        2         0.6265932\n",
            "BBBBBBBBBBB@%%%%BBB+ =BBBBBB        2         0.6912652\n",
            "BBBBBBBBB*-.   .=## =@BBBBBB        2         0.7084684\n",
            "BBBBBB@*.          :@BBBBBBB        2         0.7935316\n",
            "BBBBBB=   ::-+:.    *BBBBBBB        2         0.8155017\n",
            "BBBBBB.  +@BBBB:     =BBBBBB        2         0.8341132\n",
            "BBBBBB :@BBBBB- =B@:  :BBBBB        2         0.7387242\n",
            "BBBBBB :BBBB%: *BBBB+. =@BBB        2         0.7577010\n",
            "BBBBBB  =B@=..%BBBBBB%: .=BB        2         0.7792683\n",
            "BBBBBB#     :@BBBBBBBBB@*#BB        2         0.5981838\n",
            "BBBBBBB#: :#BBBBBBBBBBBBBBBB        2         0.5604926\n",
            "BBBBBBBB@@BBBBBBBBBBBBBBBBBB        2         0.4947422\n",
            "BBBBBBBBBBBBBBBBBBBBBBBBBBBB        2         0.4348378\n",
            "BBBBBBBBBBBBBBBBBBBBBBBBBBBB        2         0.3860607\n",
            "BBBBBBBBBBBBBBBBBBBBBBBBBBBB        2         0.3374431\n",
            "BBBBBBBBBBBBBBBBBBBBBBBBBBBB        2         0.3195482\n",
            "\n",
            "Imagen # 6297\n",
            "Label : 0\n",
            "Filas de la imagen             Predicción     Probabilidad\n",
            "BBBBBBBBBBBBBBBBBBBBBBBBBBBB        0         0.8473385\n",
            "BBBBBBBBBBBBBBBBBBBBBBBBBBBB        0         0.8450162\n",
            "BBBBBBBBBBBBBBBBBBBBBBBBBBBB        0         0.8283170\n",
            "BBBBBBBBBBBBBBBBBBBBBBBBBBBB        0         0.7819493\n",
            "BBBBBBBBBBBB#+ :+@BBBBBBBBBB        0         0.7348610\n",
            "BBBBBBBBBBB@:    .*BBBBBBBBB        0         0.6392885\n",
            "BBBBBBBBBB#-       -BBBBBBBB        0         0.6327795\n",
            "BBBBBBBBB*    :*    *BBBBBBB        0         0.5951626\n",
            "BBBBBBBB#.   +@B%-  .%BBBBBB        0         0.7085354\n",
            "BBBBBBBB-   +@BBBB:  *BBBBBB        0         0.7630960\n",
            "BBBBBBB#.  :BBBBBB-  .@BBBBB        0         0.7536986\n",
            "BBBBBBB-   #BBBBBBB:  *BBBBB        0         0.7517575\n",
            "BBBBBBB.  :BBBBBBBB:  .BBBBB        0         0.8175693\n",
            "BBBBBBB.  #BBBBBBBB#  .BBBBB        0         0.8655812\n",
            "BBBBBBB.  #BBBBBBBB#  .BBBBB        0         0.8780082\n",
            "BBBBBBB.  #BBBBBBBB#  .BBBBB        0         0.8831998\n",
            "BBBBBBB.  #BBBBBBBB+  .BBBBB        0         0.8957158\n",
            "BBBBBBB.  *BBBBBBB@.  *BBBBB        0         0.9018539\n",
            "BBBBBBB+  .%BBBBBB-  .@BBBBB        0         0.9067301\n",
            "BBBBBBB#   -BBBB@*  .*BBBBBB        0         0.8982135\n",
            "BBBBBBBB:  .=@B@:   *BBBBBBB        0         0.8771228\n",
            "BBBBBBBB@:   :=:   -BBBBBBBB        0         0.8625495\n",
            "BBBBBBBBB@:       :@BBBBBBBB        0         0.8788840\n",
            "BBBBBBBBBBB*     #BBBBBBBBBB        0         0.9079043\n",
            "BBBBBBBBBBBBBBBBBBBBBBBBBBBB        0         0.9144434\n",
            "BBBBBBBBBBBBBBBBBBBBBBBBBBBB        0         0.9193810\n",
            "BBBBBBBBBBBBBBBBBBBBBBBBBBBB        0         0.9217671\n",
            "BBBBBBBBBBBBBBBBBBBBBBBBBBBB        0         0.9235283\n",
            "\n"
          ],
          "name": "stdout"
        }
      ]
    },
    {
      "cell_type": "markdown",
      "metadata": {
        "id": "6KFu-zFfJ2eu"
      },
      "source": [
        "## 2. LSTM usando `tf.keras.layers.LSTM`"
      ]
    },
    {
      "cell_type": "code",
      "metadata": {
        "id": "BerCamFJzXnF",
        "colab": {
          "base_uri": "https://localhost:8080/",
          "height": 468
        },
        "outputId": "355cd617-4460-47e1-8051-fbff6e824ffa"
      },
      "source": [
        "model = tf.keras.models.Sequential([\n",
        "      keras.layers.LSTM(NUM_UNITS, input_shape=(NUM_STEPS, INPUT_SIZE), return_sequences=True),\n",
        "      keras.layers.LSTM(NUM_UNITS, return_sequences=True),\n",
        "      keras.layers.Dense(NUM_CLASSES, activation='softmax')\n",
        "])\n",
        "\n",
        "model.compile(loss='sparse_categorical_crossentropy', metrics=['accuracy'], optimizer='adam')\n",
        "history = model.fit(mnist_train.map(tile_labels), epochs=NUM_EPOCHS)\n",
        "print(model.summary())\n",
        "\n",
        "test_pred_proba, resultado = evaluar_mnist_many_to_many(model, test_images, test_labels, NUM_UNITS, NUM_EPOCHS, resultados, \n",
        "                                                        'LSTM, dos capas, many-to-many')\n",
        "resultados = resultados.append(resultado, ignore_index=True)\n",
        "resultados"
      ],
      "execution_count": 4,
      "outputs": [
        {
          "output_type": "stream",
          "text": [
            "Epoch 1/3\n",
            "30/30 [==============================] - 2s 64ms/step - loss: 2.0468 - accuracy: 0.2552\n",
            "Epoch 2/3\n",
            "30/30 [==============================] - 2s 59ms/step - loss: 1.5264 - accuracy: 0.4486\n",
            "Epoch 3/3\n",
            "30/30 [==============================] - 2s 60ms/step - loss: 1.2108 - accuracy: 0.5647\n",
            "Model: \"sequential_1\"\n",
            "_________________________________________________________________\n",
            "Layer (type)                 Output Shape              Param #   \n",
            "=================================================================\n",
            "lstm (LSTM)                  (None, 28, 128)           80384     \n",
            "_________________________________________________________________\n",
            "lstm_1 (LSTM)                (None, 28, 128)           131584    \n",
            "_________________________________________________________________\n",
            "dense_1 (Dense)              (None, 28, 10)            1290      \n",
            "=================================================================\n",
            "Total params: 213,258\n",
            "Trainable params: 213,258\n",
            "Non-trainable params: 0\n",
            "_________________________________________________________________\n",
            "None\n"
          ],
          "name": "stdout"
        },
        {
          "output_type": "execute_result",
          "data": {
            "text/html": [
              "<div>\n",
              "<style scoped>\n",
              "    .dataframe tbody tr th:only-of-type {\n",
              "        vertical-align: middle;\n",
              "    }\n",
              "\n",
              "    .dataframe tbody tr th {\n",
              "        vertical-align: top;\n",
              "    }\n",
              "\n",
              "    .dataframe thead th {\n",
              "        text-align: right;\n",
              "    }\n",
              "</style>\n",
              "<table border=\"1\" class=\"dataframe\">\n",
              "  <thead>\n",
              "    <tr style=\"text-align: right;\">\n",
              "      <th></th>\n",
              "      <th>modelo</th>\n",
              "      <th>num_units</th>\n",
              "      <th>num_epochs</th>\n",
              "      <th>exactitud (accuracy)</th>\n",
              "      <th>exactitud (accuracy) en último paso</th>\n",
              "    </tr>\n",
              "  </thead>\n",
              "  <tbody>\n",
              "    <tr>\n",
              "      <th>0</th>\n",
              "      <td>SimpleRNN, dos capas, many-to-many</td>\n",
              "      <td>128</td>\n",
              "      <td>3</td>\n",
              "      <td>0.775300</td>\n",
              "      <td>0.6475</td>\n",
              "    </tr>\n",
              "    <tr>\n",
              "      <th>1</th>\n",
              "      <td>LSTM, dos capas, many-to-many</td>\n",
              "      <td>128</td>\n",
              "      <td>3</td>\n",
              "      <td>0.596079</td>\n",
              "      <td>0.8602</td>\n",
              "    </tr>\n",
              "  </tbody>\n",
              "</table>\n",
              "</div>"
            ],
            "text/plain": [
              "                               modelo  ... exactitud (accuracy) en último paso\n",
              "0  SimpleRNN, dos capas, many-to-many  ...                              0.6475\n",
              "1       LSTM, dos capas, many-to-many  ...                              0.8602\n",
              "\n",
              "[2 rows x 5 columns]"
            ]
          },
          "metadata": {
            "tags": []
          },
          "execution_count": 4
        }
      ]
    },
    {
      "cell_type": "code",
      "metadata": {
        "id": "syjgzyNZbZQA",
        "colab": {
          "base_uri": "https://localhost:8080/"
        },
        "outputId": "3687b721-2bda-4686-fc52-e2792144a65c"
      },
      "source": [
        "NUM_SAMPLES = 2\n",
        "for IMAGE_INDEX in np.random.randint(test_images.shape[0], size=NUM_SAMPLES):\n",
        "  print(\"Imagen #\", IMAGE_INDEX)\n",
        "  print(\"Label :\", test_labels[IMAGE_INDEX])\n",
        "  visualize_preds(test_images[IMAGE_INDEX], test_pred_proba[IMAGE_INDEX])\n"
      ],
      "execution_count": 5,
      "outputs": [
        {
          "output_type": "stream",
          "text": [
            "Imagen # 3902\n",
            "Label : 6\n",
            "Filas de la imagen             Predicción     Probabilidad\n",
            "BBBBBBBBBBBBBBBBBBBBBBBBBBBB        1         0.1060698\n",
            "BBBBBBBBBBBBBBBBBBBBBBBBBBBB        1         0.1110501\n",
            "BBBBBBBBBBB .BBBBBBBBBBBBBBB        4         0.1133353\n",
            "BBBBBBBBBB%  @BBBBBBBBBBBBBB        4         0.1227792\n",
            "BBBBBBBBBBB= @BBBBBBBBBBBBBB        4         0.1328907\n",
            "BBBBBBBBBBB -BBBBBBBBBBBBBBB        5         0.1524575\n",
            "BBBBBBBBBB# -BBBBBBBBBBBBBBB        5         0.1882555\n",
            "BBBBBBBBBB* -BBBBBBBBBBBBBBB        5         0.2439182\n",
            "BBBBBBBBBB* -BBBBBBBBBBBBBBB        5         0.3142004\n",
            "BBBBBBBBBB* -BBBBBBBBBBBBBBB        5         0.3588222\n",
            "BBBBBBBBBB* -BBBBBBBBBBBBBBB        6         0.4713330\n",
            "BBBBBBBBBB% .@BBBBBBBBBBBBBB        6         0.6672776\n",
            "BBBBBBBBBBB  @BBBBBBBBBBBBBB        6         0.8071932\n",
            "BBBBBBBBBBB. @BBB@##BBBBBBBB        6         0.8816866\n",
            "BBBBBBBBBBB: @BB*.  +BBBBBBB        6         0.9197451\n",
            "BBBBBBBBBBB  %B+ :*..BBBBBBB        6         0.9424248\n",
            "BBBBBBBBBBB= -* -BB- BBBBBBB        6         0.9572317\n",
            "BBBBBBBBBBB%   .BB@-.BBBBBBB        6         0.9668180\n",
            "BBBBBBBBBBBB-  %B@: #BBBBBBB        6         0.9721441\n",
            "BBBBBBBBBBBB#  =*. +BBBBBBBB        6         0.9746985\n",
            "BBBBBBBBBBBBB=   .+BBBBBBBBB        6         0.9752388\n",
            "BBBBBBBBBBBBB@=.+@BBBBBBBBBB        6         0.9730136\n",
            "BBBBBBBBBBBBBBBBBBBBBBBBBBBB        6         0.9657348\n",
            "BBBBBBBBBBBBBBBBBBBBBBBBBBBB        6         0.9504572\n",
            "BBBBBBBBBBBBBBBBBBBBBBBBBBBB        6         0.9236743\n",
            "BBBBBBBBBBBBBBBBBBBBBBBBBBBB        6         0.8829669\n",
            "BBBBBBBBBBBBBBBBBBBBBBBBBBBB        6         0.8257812\n",
            "BBBBBBBBBBBBBBBBBBBBBBBBBBBB        6         0.7508522\n",
            "\n",
            "Imagen # 3817\n",
            "Label : 4\n",
            "Filas de la imagen             Predicción     Probabilidad\n",
            "BBBBBBBBBBBBBBBBBBBBBBBBBBBB        1         0.1060698\n",
            "BBBBBBBBBBBBBBBBBBBBBBBBBBBB        1         0.1110501\n",
            "BBBBBBBBBBBBBBBBBBBBBBBBBBBB        1         0.1173250\n",
            "BBBBBBBBBBBBBBBBBBBBBBBBBBBB        1         0.1250647\n",
            "BBBBBBBBBBBBB#-  #BBBBBBBBBB        1         0.1566517\n",
            "BBBBBBBBBBBBB+    BBBBBBBBBB        1         0.2324619\n",
            "BBBBBBBBBBBBB-    BBBBBBBBBB        1         0.3731478\n",
            "BBBBBBBBBBBB      BBBBBBBBBB        1         0.4753999\n",
            "BBBBBBBBBBB-      BBBBBBBBBB        1         0.3760741\n",
            "BBBBBBBBBB-       BBBBBBBBBB        6         0.4666753\n",
            "BBBBBBBBB-        BBBBBBBBBB        6         0.5766501\n",
            "BBBBBBBB#         BBBBBBBBBB        6         0.6274359\n",
            "BBBBBBBB-    -    BBBBBBBBBB        6         0.6640068\n",
            "BBBBBBB+    #+    BBBBBBBBBB        6         0.6901355\n",
            "BBBBBBB+    B+    BBBBBBBBBB        6         0.7072209\n",
            "BBBBBBB     B+      -+BBBBBB        6         0.7267179\n",
            "BBBBBBB               -BBBBB        6         0.7497391\n",
            "BBBBBB+                BBBBB        6         0.7741789\n",
            "BBBBBB#               +BBBBB        6         0.7930300\n",
            "BBBBBBB#-         -+++BBBBBB        6         0.8006765\n",
            "BBBBBBBBBBBBB+    BBBBBBBBBB        6         0.7894554\n",
            "BBBBBBBBBBBBB+    BBBBBBBBBB        6         0.7543319\n",
            "BBBBBBBBBBBBB#    BBBBBBBBBB        6         0.6894277\n",
            "BBBBBBBBBBBBBB# -BBBBBBBBBBB        6         0.6131011\n",
            "BBBBBBBBBBBBBBBBBBBBBBBBBBBB        6         0.5442821\n",
            "BBBBBBBBBBBBBBBBBBBBBBBBBBBB        6         0.4791732\n",
            "BBBBBBBBBBBBBBBBBBBBBBBBBBBB        6         0.4202248\n",
            "BBBBBBBBBBBBBBBBBBBBBBBBBBBB        6         0.3672381\n",
            "\n"
          ],
          "name": "stdout"
        }
      ]
    },
    {
      "cell_type": "markdown",
      "metadata": {
        "id": "T202eahoMAbM"
      },
      "source": [
        "## 3. LSTM usando una celda propia\n",
        "\n",
        "Salida (*output*):\n",
        "$$ h_t = o_t \\odot \\tanh(c_t) $$\n",
        "\n",
        "Unidad de estado (*state unit*):\n",
        "$$ c_t = f_t \\odot c_{t-1} + i_t \\odot \\tilde{c}_t $$\n",
        "$$ \\tilde{c}_t = \\tanh(U_c x_t + W_c h_{t-1} + b_c) $$\n",
        "\n",
        "Compuertas de salida ($o$), entrada ($i$) y olvido ($f$):\n",
        "$$ o_t = \\sigma(U_o x_t + W_o h_{t-1} + b_o) $$\n",
        "$$ i_t = \\sigma(U_i x_t + W_i h_{t-1} + b_i) $$\n",
        "$$ f_t = \\sigma(U_f x_t + W_f h_{t-1} + b_f) $$"
      ]
    },
    {
      "cell_type": "code",
      "metadata": {
        "id": "2VacN15jL1vM"
      },
      "source": [
        "class MiCeldaLSTM(tf.keras.layers.Layer):\n",
        "  \"\"\"Cell class for LSTM.\n",
        "  Arguments:\n",
        "    units: Positive integer, dimensionality of the output space.\n",
        "  Call arguments:\n",
        "    inputs: A 2D tensor.\n",
        "    states: List of state tensors corresponding to the previous timestep.\n",
        "  Returns:\n",
        "    output: Output tensor.\n",
        "    next_states: List of state tensors corresponding to the next timestep.\n",
        "  \"\"\"\n",
        "\n",
        "  def __init__(self,\n",
        "               units,\n",
        "               **kwargs):\n",
        "    super(MiCeldaLSTM, self).__init__(**kwargs)\n",
        "    self.units = units\n",
        "    self.state_size = [units, units]  # LSTM tiene dos estados: h y c\n",
        "    self.output_size = self.units\n",
        "\n",
        "  def build(self, input_shape):\n",
        "    # Parámetros principales\n",
        "    self.U = self.add_weight( shape=(input_shape[-1], self.units),  name='U', initializer='glorot_uniform' )\n",
        "    self.W = self.add_weight( shape=(self.units, self.units),       name='W', initializer='glorot_uniform' )\n",
        "    self.b = self.add_weight( shape=(self.units,),                  name='b', initializer='zeros' )\n",
        "\n",
        "    # Parámetros del output gate\n",
        "    self.U_o = self.add_weight( shape=(input_shape[-1], self.units),  name='U_o', initializer='glorot_uniform' )\n",
        "    self.W_o = self.add_weight( shape=(self.units, self.units),       name='W_o', initializer='glorot_uniform' )\n",
        "    self.b_o = self.add_weight( shape=(self.units,),                  name='b_o', initializer='zeros' )\n",
        "\n",
        "    # Parámetros del input gate\n",
        "    self.U_i = self.add_weight( shape=(input_shape[-1], self.units),  name='U_i', initializer='glorot_uniform' )\n",
        "    self.W_i = self.add_weight( shape=(self.units, self.units),       name='W_i', initializer='glorot_uniform' )\n",
        "    self.b_i = self.add_weight( shape=(self.units,),                  name='b_i', initializer='zeros' )\n",
        "\n",
        "    # Parámetros del forget gate\n",
        "    self.U_f = self.add_weight( shape=(input_shape[-1], self.units),  name='U_f', initializer='glorot_uniform' )\n",
        "    self.W_f = self.add_weight( shape=(self.units, self.units),       name='W_f', initializer='glorot_uniform' )\n",
        "    self.b_f = self.add_weight( shape=(self.units,),                  name='b_f', initializer='zeros' )\n",
        "    self.built = True\n",
        "\n",
        "\n",
        "  def get_initial_state(self, inputs=None, batch_size=None, dtype=None):\n",
        "    if inputs is not None:\n",
        "      batch_size = tf.shape(inputs)[0]\n",
        "      dtype = inputs.dtype\n",
        "    return [tf.zeros([batch_size, self.state_size[0]], dtype=dtype),\n",
        "            tf.zeros([batch_size, self.state_size[1]], dtype=dtype)] # Valores iniciales de los estados h y c\n",
        "\n",
        "  # `call` define las operaciones del layer\n",
        "  def call(self, inputs, states, training=None):\n",
        "    h_tmenos1 = states[0]\n",
        "    c_tmenos1 = states[1]\n",
        "\n",
        "    o = tf.sigmoid(tf.matmul(inputs, self.U_o) + tf.matmul(h_tmenos1, self.W_o) + self.b_o)\n",
        "    i = tf.sigmoid(tf.matmul(inputs, self.U_i) + tf.matmul(h_tmenos1, self.W_i) + self.b_i)\n",
        "    f = tf.sigmoid(tf.matmul(inputs, self.U_f) + tf.matmul(h_tmenos1, self.W_f) + self.b_f)\n",
        "    ctilde = tf.tanh(tf.matmul(inputs, self.U) + tf.matmul(h_tmenos1, self.W) + self.b)\n",
        "    c_t = tf.multiply(f, c_tmenos1) + tf.multiply(i, ctilde)\n",
        "    h_t = tf.multiply(o, tf.tanh(c_t))\n",
        "\n",
        "    output = h_t\n",
        "    next_states = [h_t, c_t]\n",
        "\n",
        "    return output, next_states\n",
        "\n",
        "  # `get_config` es muy fácil de implementar y permite serializar el modelo\n",
        "  def get_config(self):\n",
        "    config = {\n",
        "        'units':\n",
        "            self.units\n",
        "    }\n",
        "    base_config = super(MiCeldaLSTM, self).get_config()\n",
        "    return dict(list(base_config.items()) + list(config.items()))"
      ],
      "execution_count": 6,
      "outputs": []
    },
    {
      "cell_type": "code",
      "metadata": {
        "id": "l7FhnJ7GQmvI",
        "colab": {
          "base_uri": "https://localhost:8080/",
          "height": 499
        },
        "outputId": "05d09c87-6655-4f05-d77a-11bb7958cc58"
      },
      "source": [
        "model = tf.keras.models.Sequential([\n",
        "      keras.layers.RNN(MiCeldaLSTM(NUM_UNITS), input_shape=(NUM_STEPS, INPUT_SIZE), return_sequences=True),\n",
        "      keras.layers.RNN(MiCeldaLSTM(NUM_UNITS), return_sequences=True),\n",
        "      keras.layers.Dense(NUM_CLASSES, activation='softmax')\n",
        "])\n",
        "print(model.summary())\n",
        "\n",
        "model.compile(loss='sparse_categorical_crossentropy', metrics=['accuracy'], optimizer='adam')\n",
        "history = model.fit(mnist_train.map(tile_labels), epochs=NUM_EPOCHS)\n",
        "\n",
        "test_pred_proba, resultado = evaluar_mnist_many_to_many(model, test_images, test_labels, NUM_UNITS, NUM_EPOCHS, resultados, \n",
        "                                                        'MiCeldaLSTM, dos capas, many-to-many')\n",
        "resultados = resultados.append(resultado, ignore_index=True)\n",
        "resultados"
      ],
      "execution_count": 7,
      "outputs": [
        {
          "output_type": "stream",
          "text": [
            "Model: \"sequential_2\"\n",
            "_________________________________________________________________\n",
            "Layer (type)                 Output Shape              Param #   \n",
            "=================================================================\n",
            "rnn (RNN)                    (None, 28, 128)           80384     \n",
            "_________________________________________________________________\n",
            "rnn_1 (RNN)                  (None, 28, 128)           131584    \n",
            "_________________________________________________________________\n",
            "dense_2 (Dense)              (None, 28, 10)            1290      \n",
            "=================================================================\n",
            "Total params: 213,258\n",
            "Trainable params: 213,258\n",
            "Non-trainable params: 0\n",
            "_________________________________________________________________\n",
            "None\n",
            "Epoch 1/3\n",
            "30/30 [==============================] - 6s 199ms/step - loss: 2.0714 - accuracy: 0.2460\n",
            "Epoch 2/3\n",
            "30/30 [==============================] - 6s 197ms/step - loss: 1.5096 - accuracy: 0.4551\n",
            "Epoch 3/3\n",
            "30/30 [==============================] - 6s 200ms/step - loss: 1.2158 - accuracy: 0.5630\n"
          ],
          "name": "stdout"
        },
        {
          "output_type": "execute_result",
          "data": {
            "text/html": [
              "<div>\n",
              "<style scoped>\n",
              "    .dataframe tbody tr th:only-of-type {\n",
              "        vertical-align: middle;\n",
              "    }\n",
              "\n",
              "    .dataframe tbody tr th {\n",
              "        vertical-align: top;\n",
              "    }\n",
              "\n",
              "    .dataframe thead th {\n",
              "        text-align: right;\n",
              "    }\n",
              "</style>\n",
              "<table border=\"1\" class=\"dataframe\">\n",
              "  <thead>\n",
              "    <tr style=\"text-align: right;\">\n",
              "      <th></th>\n",
              "      <th>modelo</th>\n",
              "      <th>num_units</th>\n",
              "      <th>num_epochs</th>\n",
              "      <th>exactitud (accuracy)</th>\n",
              "      <th>exactitud (accuracy) en último paso</th>\n",
              "    </tr>\n",
              "  </thead>\n",
              "  <tbody>\n",
              "    <tr>\n",
              "      <th>0</th>\n",
              "      <td>SimpleRNN, dos capas, many-to-many</td>\n",
              "      <td>128</td>\n",
              "      <td>3</td>\n",
              "      <td>0.775300</td>\n",
              "      <td>0.6475</td>\n",
              "    </tr>\n",
              "    <tr>\n",
              "      <th>1</th>\n",
              "      <td>LSTM, dos capas, many-to-many</td>\n",
              "      <td>128</td>\n",
              "      <td>3</td>\n",
              "      <td>0.596079</td>\n",
              "      <td>0.8602</td>\n",
              "    </tr>\n",
              "    <tr>\n",
              "      <th>2</th>\n",
              "      <td>MiCeldaLSTM, dos capas, many-to-many</td>\n",
              "      <td>128</td>\n",
              "      <td>3</td>\n",
              "      <td>0.603718</td>\n",
              "      <td>0.8692</td>\n",
              "    </tr>\n",
              "  </tbody>\n",
              "</table>\n",
              "</div>"
            ],
            "text/plain": [
              "                                 modelo  ... exactitud (accuracy) en último paso\n",
              "0    SimpleRNN, dos capas, many-to-many  ...                              0.6475\n",
              "1         LSTM, dos capas, many-to-many  ...                              0.8602\n",
              "2  MiCeldaLSTM, dos capas, many-to-many  ...                              0.8692\n",
              "\n",
              "[3 rows x 5 columns]"
            ]
          },
          "metadata": {
            "tags": []
          },
          "execution_count": 7
        }
      ]
    },
    {
      "cell_type": "markdown",
      "metadata": {
        "id": "yfbuSDWvU9JB"
      },
      "source": [
        "## 4. Usando una celda GRU propia\n",
        "\n",
        "Estado (*state*):\n",
        "$$ h_t = (1 - z_t) \\odot h_{t-1}  + z_t \\odot \\tilde{h}_t $$\n",
        "$$ \\tilde{h}_t = \\tanh(U x_t + W (r_t \\odot h_{t-1}) + b) $$\n",
        "\n",
        "Compuertas de actualización ($u$) y restablecimiento ($r$):\n",
        "$$ z_t = \\sigma(U_z x_t + W_z h_{t-1} + b_z) $$\n",
        "$$ r_t = \\sigma(U_r x_t + W_r h_{t-1} + b_r) $$"
      ]
    },
    {
      "cell_type": "code",
      "metadata": {
        "id": "-GawPmG4XsDh"
      },
      "source": [
        "class MiCeldaGRU(tf.keras.layers.Layer):\n",
        "  \"\"\"Cell class for GRU.\n",
        "  Arguments:\n",
        "    units: Positive integer, dimensionality of the output space.\n",
        "  Call arguments:\n",
        "    inputs: A 2D tensor.\n",
        "    states: List of state tensors corresponding to the previous timestep.\n",
        "  Returns:\n",
        "    output: Output tensor.\n",
        "    next_states: List of state tensors corresponding to the next timestep.\n",
        "  \"\"\"\n",
        "\n",
        "  def __init__(self,\n",
        "               units,\n",
        "               **kwargs):\n",
        "    super(MiCeldaGRU, self).__init__(**kwargs)\n",
        "    self.units = units\n",
        "    self.state_size = [units]  # GRU tiene un estado: h\n",
        "    self.output_size = self.units\n",
        "\n",
        "  def build(self, input_shape):\n",
        "    # Parámetros principales\n",
        "    self.U = self.add_weight( shape=(input_shape[-1], self.units),  name='U', initializer='glorot_uniform' )\n",
        "    self.W = self.add_weight( shape=(self.units, self.units),       name='W', initializer='glorot_uniform' )\n",
        "    self.b = self.add_weight( shape=(self.units,),                  name='b', initializer='zeros' )\n",
        "\n",
        "    # Parámetros de compuerta de actualización z\n",
        "    self.U_z = self.add_weight( shape=(input_shape[-1], self.units),  name='U_z', initializer='glorot_uniform' )\n",
        "    self.W_z = self.add_weight( shape=(self.units, self.units),       name='W_z', initializer='glorot_uniform' )\n",
        "    self.b_z = self.add_weight( shape=(self.units,),                  name='b_z', initializer='zeros' )\n",
        "\n",
        "    # Parámetros de compuerta de restablecimiento r\n",
        "    self.U_r = self.add_weight( shape=(input_shape[-1], self.units),  name='U_r', initializer='glorot_uniform' )\n",
        "    self.W_r = self.add_weight( shape=(self.units, self.units),       name='W_r', initializer='glorot_uniform' )\n",
        "    self.b_r = self.add_weight( shape=(self.units,),                  name='b_r', initializer='zeros' )\n",
        "    self.built = True\n",
        "\n",
        "  def get_initial_state(self, inputs=None, batch_size=None, dtype=None):\n",
        "    if inputs is not None:\n",
        "      batch_size = tf.shape(inputs)[0]\n",
        "      dtype = inputs.dtype\n",
        "    return [tf.zeros([batch_size, self.state_size[0]], dtype=dtype),\n",
        "            ] # Valores iniciales del estado h\n",
        "\n",
        "  # `call` define las operaciones del layer\n",
        "  def call(self, inputs, states, training=None):\n",
        "    h_tmenos1 = states[0]\n",
        "    \n",
        "    z = tf.sigmoid(tf.matmul(inputs, self.U_z) + tf.matmul(h_tmenos1, self.W_z) + self.b_z)\n",
        "    r = tf.sigmoid(tf.matmul(inputs, self.U_r) + tf.matmul(h_tmenos1, self.W_r) + self.b_z)\n",
        "    htilde = tf.tanh(tf.matmul(inputs, self.U) + tf.matmul(tf.multiply(r,h_tmenos1), self.W) + self.b)\n",
        "    h_t = tf.multiply((1-z), h_tmenos1) + tf.multiply(z, htilde)\n",
        "    #h_t = tf.multiply(o, tf.tanh(c_t))\n",
        "\n",
        "    output = h_t\n",
        "    next_states = [h_t]\n",
        "\n",
        "    return output, next_states\n",
        "\n",
        "  # `get_config` es muy fácil de implementar y permite serializar el modelo\n",
        "  def get_config(self):\n",
        "    config = {\n",
        "        'units':\n",
        "            self.units\n",
        "    }\n",
        "    base_config = super(MiCeldaGRU, self).get_config()\n",
        "    return dict(list(base_config.items()) + list(config.items()))"
      ],
      "execution_count": 26,
      "outputs": []
    },
    {
      "cell_type": "code",
      "metadata": {
        "colab": {
          "base_uri": "https://localhost:8080/",
          "height": 666
        },
        "id": "klrpz5GcG6hW",
        "outputId": "9c7902f3-4a0c-4b32-f69b-93bd54476994"
      },
      "source": [
        "model = tf.keras.models.Sequential([\n",
        "      keras.layers.RNN(MiCeldaGRU(NUM_UNITS), input_shape=(NUM_STEPS, INPUT_SIZE), return_sequences=True),\n",
        "      keras.layers.RNN(MiCeldaGRU(NUM_UNITS), return_sequences=True),\n",
        "      keras.layers.Dense(NUM_CLASSES, activation='softmax')\n",
        "])\n",
        "print(model.summary())\n",
        "\n",
        "model.compile(loss='sparse_categorical_crossentropy', metrics=['accuracy'], optimizer='adam')\n",
        "history = model.fit(mnist_train.map(tile_labels), epochs=NUM_EPOCHS)\n",
        "\n",
        "test_pred_proba, resultado = evaluar_mnist_many_to_many(model, test_images, test_labels, NUM_UNITS, NUM_EPOCHS, resultados, \n",
        "                                                        'MiCeldaGRU, dos capas, many-to-many')\n",
        "resultados = resultados.append(resultado, ignore_index=True)\n",
        "resultados"
      ],
      "execution_count": 27,
      "outputs": [
        {
          "output_type": "stream",
          "text": [
            "Model: \"sequential_10\"\n",
            "_________________________________________________________________\n",
            "Layer (type)                 Output Shape              Param #   \n",
            "=================================================================\n",
            "rnn_16 (RNN)                 (None, 28, 128)           60288     \n",
            "_________________________________________________________________\n",
            "rnn_17 (RNN)                 (None, 28, 128)           98688     \n",
            "_________________________________________________________________\n",
            "dense_10 (Dense)             (None, 28, 10)            1290      \n",
            "=================================================================\n",
            "Total params: 160,266\n",
            "Trainable params: 160,266\n",
            "Non-trainable params: 0\n",
            "_________________________________________________________________\n",
            "None\n",
            "Epoch 1/3\n",
            "WARNING:tensorflow:Gradients do not exist for variables ['rnn_16/mi_celda_gru_14/b_r:0', 'rnn_17/mi_celda_gru_15/b_r:0'] when minimizing the loss.\n"
          ],
          "name": "stdout"
        },
        {
          "output_type": "stream",
          "text": [
            "WARNING:tensorflow:Gradients do not exist for variables ['rnn_16/mi_celda_gru_14/b_r:0', 'rnn_17/mi_celda_gru_15/b_r:0'] when minimizing the loss.\n"
          ],
          "name": "stderr"
        },
        {
          "output_type": "stream",
          "text": [
            "WARNING:tensorflow:Gradients do not exist for variables ['rnn_16/mi_celda_gru_14/b_r:0', 'rnn_17/mi_celda_gru_15/b_r:0'] when minimizing the loss.\n"
          ],
          "name": "stdout"
        },
        {
          "output_type": "stream",
          "text": [
            "WARNING:tensorflow:Gradients do not exist for variables ['rnn_16/mi_celda_gru_14/b_r:0', 'rnn_17/mi_celda_gru_15/b_r:0'] when minimizing the loss.\n"
          ],
          "name": "stderr"
        },
        {
          "output_type": "stream",
          "text": [
            "WARNING:tensorflow:Gradients do not exist for variables ['rnn_16/mi_celda_gru_14/b_r:0', 'rnn_17/mi_celda_gru_15/b_r:0'] when minimizing the loss.\n"
          ],
          "name": "stdout"
        },
        {
          "output_type": "stream",
          "text": [
            "WARNING:tensorflow:Gradients do not exist for variables ['rnn_16/mi_celda_gru_14/b_r:0', 'rnn_17/mi_celda_gru_15/b_r:0'] when minimizing the loss.\n"
          ],
          "name": "stderr"
        },
        {
          "output_type": "stream",
          "text": [
            "WARNING:tensorflow:Gradients do not exist for variables ['rnn_16/mi_celda_gru_14/b_r:0', 'rnn_17/mi_celda_gru_15/b_r:0'] when minimizing the loss.\n"
          ],
          "name": "stdout"
        },
        {
          "output_type": "stream",
          "text": [
            "WARNING:tensorflow:Gradients do not exist for variables ['rnn_16/mi_celda_gru_14/b_r:0', 'rnn_17/mi_celda_gru_15/b_r:0'] when minimizing the loss.\n"
          ],
          "name": "stderr"
        },
        {
          "output_type": "stream",
          "text": [
            "30/30 [==============================] - 6s 195ms/step - loss: 2.0300 - accuracy: 0.2620\n",
            "Epoch 2/3\n",
            "30/30 [==============================] - 5s 169ms/step - loss: 1.5006 - accuracy: 0.4694\n",
            "Epoch 3/3\n",
            "30/30 [==============================] - 5s 182ms/step - loss: 1.1066 - accuracy: 0.6127\n"
          ],
          "name": "stdout"
        },
        {
          "output_type": "execute_result",
          "data": {
            "text/html": [
              "<div>\n",
              "<style scoped>\n",
              "    .dataframe tbody tr th:only-of-type {\n",
              "        vertical-align: middle;\n",
              "    }\n",
              "\n",
              "    .dataframe tbody tr th {\n",
              "        vertical-align: top;\n",
              "    }\n",
              "\n",
              "    .dataframe thead th {\n",
              "        text-align: right;\n",
              "    }\n",
              "</style>\n",
              "<table border=\"1\" class=\"dataframe\">\n",
              "  <thead>\n",
              "    <tr style=\"text-align: right;\">\n",
              "      <th></th>\n",
              "      <th>modelo</th>\n",
              "      <th>num_units</th>\n",
              "      <th>num_epochs</th>\n",
              "      <th>exactitud (accuracy)</th>\n",
              "      <th>exactitud (accuracy) en último paso</th>\n",
              "    </tr>\n",
              "  </thead>\n",
              "  <tbody>\n",
              "    <tr>\n",
              "      <th>0</th>\n",
              "      <td>SimpleRNN, dos capas, many-to-many</td>\n",
              "      <td>128</td>\n",
              "      <td>3</td>\n",
              "      <td>0.775300</td>\n",
              "      <td>0.6475</td>\n",
              "    </tr>\n",
              "    <tr>\n",
              "      <th>1</th>\n",
              "      <td>LSTM, dos capas, many-to-many</td>\n",
              "      <td>128</td>\n",
              "      <td>3</td>\n",
              "      <td>0.596079</td>\n",
              "      <td>0.8602</td>\n",
              "    </tr>\n",
              "    <tr>\n",
              "      <th>2</th>\n",
              "      <td>MiCeldaLSTM, dos capas, many-to-many</td>\n",
              "      <td>128</td>\n",
              "      <td>3</td>\n",
              "      <td>0.603718</td>\n",
              "      <td>0.8692</td>\n",
              "    </tr>\n",
              "    <tr>\n",
              "      <th>3</th>\n",
              "      <td>MiCeldaGRU, dos capas, many-to-many</td>\n",
              "      <td>128</td>\n",
              "      <td>3</td>\n",
              "      <td>0.656743</td>\n",
              "      <td>0.9121</td>\n",
              "    </tr>\n",
              "  </tbody>\n",
              "</table>\n",
              "</div>"
            ],
            "text/plain": [
              "                                 modelo  ... exactitud (accuracy) en último paso\n",
              "0    SimpleRNN, dos capas, many-to-many  ...                              0.6475\n",
              "1         LSTM, dos capas, many-to-many  ...                              0.8602\n",
              "2  MiCeldaLSTM, dos capas, many-to-many  ...                              0.8692\n",
              "3   MiCeldaGRU, dos capas, many-to-many  ...                              0.9121\n",
              "\n",
              "[4 rows x 5 columns]"
            ]
          },
          "metadata": {
            "tags": []
          },
          "execution_count": 27
        }
      ]
    },
    {
      "cell_type": "markdown",
      "metadata": {
        "id": "70vWDIiNSVM3"
      },
      "source": [
        "### 5. Usando una celda LSTM propia con conexiones desde el estado interior $c$ a las compuertas (\"peepholes\")\n",
        "\n",
        "Prueba a configurar una celda LSTM con conexiones \"peephole\":\n",
        "\n",
        "Salida (*output*):\n",
        "$$ h_t = o_t \\odot \\tanh(c_t) $$\n",
        "\n",
        "Unidad de estado (*state unit*):\n",
        "$$ c_t = f_t \\odot c_{t-1} + i_t \\odot \\tilde{c}_t $$\n",
        "$$ \\tilde{c}_t = \\tanh(U_c x_t + W_c h_{t-1} + b_c) $$\n",
        "\n",
        "Compuertas de salida ($o$), entrada ($i$) y olvido ($f$):\n",
        "$$ o_t = \\sigma(U_o x_t + W_o h_{t-1} + Q_o c_t + b_o) $$\n",
        "$$ i_t = \\sigma(U_i x_t + W_i h_{t-1} + Q_i c_{t-1} + b_i) $$\n",
        "$$ f_t = \\sigma(U_f x_t + W_f h_{t-1} + Q_f c_{t-1} + b_f) $$"
      ]
    },
    {
      "cell_type": "code",
      "metadata": {
        "id": "hqc1J1uQUYHP"
      },
      "source": [
        "class MiCeldaLSTMconPeepholes(tf.keras.layers.Layer):\n",
        "  \"\"\"Cell class for LSTM w/peepholes.\n",
        "  \"\"\"\n",
        "\n",
        "  def __init__(self,\n",
        "               units,\n",
        "               **kwargs):\n",
        "    super(MiCeldaLSTMconPeepholes, self).__init__(**kwargs)\n",
        "    self.units = units\n",
        "    self.state_size = [units, units]  # LSTM tiene dos estados: h y c\n",
        "    self.output_size = self.units\n",
        "\n",
        "  def build(self, input_shape):\n",
        "    # Parámetros principales\n",
        "    self.U = self.add_weight( shape=(input_shape[-1], self.units),  name='U', initializer='glorot_uniform' )\n",
        "    self.W = self.add_weight( shape=(self.units, self.units),       name='W', initializer='glorot_uniform' )\n",
        "    self.Q = self.add_weight( shape=(self.units, self.units),       name='Q', initializer='glorot_uniform' )\n",
        "    self.b = self.add_weight( shape=(self.units,),                  name='b', initializer='zeros' )\n",
        "\n",
        "    # Parámetros del output gate\n",
        "    self.U_o = self.add_weight( shape=(input_shape[-1], self.units),  name='U_o', initializer='glorot_uniform' )\n",
        "    self.W_o = self.add_weight( shape=(self.units, self.units),       name='W_o', initializer='glorot_uniform' )\n",
        "    self.Q_o = self.add_weight( shape=(self.units, self.units),       name='Q_o', initializer='glorot_uniform' )\n",
        "    self.b_o = self.add_weight( shape=(self.units,),                  name='b_o', initializer='zeros' )\n",
        "\n",
        "    # Parámetros del input gate\n",
        "    self.U_i = self.add_weight( shape=(input_shape[-1], self.units),  name='U_i', initializer='glorot_uniform' )\n",
        "    self.W_i = self.add_weight( shape=(self.units, self.units),       name='W_i', initializer='glorot_uniform' )\n",
        "    self.Q_i = self.add_weight( shape=(self.units, self.units),       name='Q_i', initializer='glorot_uniform' )\n",
        "    self.b_i = self.add_weight( shape=(self.units,),                  name='b_i', initializer='zeros' )\n",
        "\n",
        "    # Parámetros del forget gate\n",
        "    self.U_f = self.add_weight( shape=(input_shape[-1], self.units),  name='U_f', initializer='glorot_uniform' )\n",
        "    self.W_f = self.add_weight( shape=(self.units, self.units),       name='W_f', initializer='glorot_uniform' )\n",
        "    self.Q_f = self.add_weight( shape=(self.units, self.units),       name='Q_f', initializer='glorot_uniform' )\n",
        "    self.b_f = self.add_weight( shape=(self.units,),                  name='b_f', initializer='zeros' )\n",
        "    self.built = True\n",
        "\n",
        "\n",
        "  def get_initial_state(self, inputs=None, batch_size=None, dtype=None):\n",
        "    if inputs is not None:\n",
        "      batch_size = tf.shape(inputs)[0]\n",
        "      dtype = inputs.dtype\n",
        "    return [tf.zeros([batch_size, self.state_size[0]], dtype=dtype),\n",
        "            tf.zeros([batch_size, self.state_size[1]], dtype=dtype)] # Valores iniciales de los estados h y c\n",
        "\n",
        "  # `call` define las operaciones del layer\n",
        "  def call(self, inputs, states, training=None):\n",
        "    h_tmenos1 = states[0]\n",
        "    c_tmenos1 = states[1]\n",
        "    \n",
        "    i = tf.sigmoid(tf.matmul(inputs, self.U_i) + tf.matmul(h_tmenos1, self.W_i) + tf.matmul(c_tmenos1, self.Q_i) + self.b_i)\n",
        "    f = tf.sigmoid(tf.matmul(inputs, self.U_f) + tf.matmul(h_tmenos1, self.W_f) + tf.matmul(c_tmenos1, self.Q_f) + self.b_f)\n",
        "    ctilde = tf.tanh(tf.matmul(inputs, self.U) + tf.matmul(h_tmenos1, self.W) + self.b)\n",
        "    c_t = tf.multiply(f, c_tmenos1) + tf.multiply(i, ctilde)\n",
        "    o = tf.sigmoid(tf.matmul(inputs, self.U_o) + tf.matmul(h_tmenos1, self.W_o) + tf.matmul(c_t, self.Q_o) + self.b_o)\n",
        "    h_t = tf.multiply(o, tf.tanh(c_t))\n",
        "\n",
        "    output = h_t\n",
        "    next_states = [h_t, c_t]\n",
        "\n",
        "    return output, next_states\n",
        "\n",
        "  # `get_config` es muy fácil de implementar y permite serializar el modelo\n",
        "  def get_config(self):\n",
        "    config = {\n",
        "        'units':\n",
        "            self.units\n",
        "    }\n",
        "    base_config = super(MiCeldaLSTMconPeepholes, self).get_config()\n",
        "    return dict(list(base_config.items()) + list(config.items()))\n",
        "\n",
        "\n"
      ],
      "execution_count": 35,
      "outputs": []
    },
    {
      "cell_type": "code",
      "metadata": {
        "id": "BfrP7KnLZxDJ",
        "colab": {
          "base_uri": "https://localhost:8080/",
          "height": 717
        },
        "outputId": "9379ec14-f860-43f0-9ae9-16524476a978"
      },
      "source": [
        "model = tf.keras.models.Sequential([\n",
        "      keras.layers.RNN(MiCeldaLSTMconPeepholes(NUM_UNITS), input_shape=(NUM_STEPS, INPUT_SIZE), return_sequences=True),\n",
        "      keras.layers.RNN(MiCeldaLSTMconPeepholes(NUM_UNITS), return_sequences=True),\n",
        "      keras.layers.Dense(NUM_CLASSES, activation='softmax')\n",
        "])\n",
        "print(model.summary())\n",
        "\n",
        "model.compile(loss='sparse_categorical_crossentropy', metrics=['accuracy'], optimizer='adam')\n",
        "history = model.fit(mnist_train.map(tile_labels), epochs=NUM_EPOCHS)\n",
        "\n",
        "test_pred_proba, resultado = evaluar_mnist_many_to_many(model, test_images, test_labels, NUM_UNITS, NUM_EPOCHS, resultados, \n",
        "                                                        'MiCeldaLSTMconPeepholes, dos capas, many-to-many')\n",
        "resultados = resultados.append(resultado, ignore_index=True)\n",
        "resultados"
      ],
      "execution_count": 36,
      "outputs": [
        {
          "output_type": "stream",
          "text": [
            "Model: \"sequential_13\"\n",
            "_________________________________________________________________\n",
            "Layer (type)                 Output Shape              Param #   \n",
            "=================================================================\n",
            "rnn_22 (RNN)                 (None, 28, 128)           145920    \n",
            "_________________________________________________________________\n",
            "rnn_23 (RNN)                 (None, 28, 128)           197120    \n",
            "_________________________________________________________________\n",
            "dense_13 (Dense)             (None, 28, 10)            1290      \n",
            "=================================================================\n",
            "Total params: 344,330\n",
            "Trainable params: 344,330\n",
            "Non-trainable params: 0\n",
            "_________________________________________________________________\n",
            "None\n",
            "Epoch 1/3\n",
            "WARNING:tensorflow:Gradients do not exist for variables ['rnn_22/mi_celda_lst_mcon_peepholes_4/Q:0', 'rnn_23/mi_celda_lst_mcon_peepholes_5/Q:0'] when minimizing the loss.\n"
          ],
          "name": "stdout"
        },
        {
          "output_type": "stream",
          "text": [
            "WARNING:tensorflow:Gradients do not exist for variables ['rnn_22/mi_celda_lst_mcon_peepholes_4/Q:0', 'rnn_23/mi_celda_lst_mcon_peepholes_5/Q:0'] when minimizing the loss.\n"
          ],
          "name": "stderr"
        },
        {
          "output_type": "stream",
          "text": [
            "WARNING:tensorflow:Gradients do not exist for variables ['rnn_22/mi_celda_lst_mcon_peepholes_4/Q:0', 'rnn_23/mi_celda_lst_mcon_peepholes_5/Q:0'] when minimizing the loss.\n"
          ],
          "name": "stdout"
        },
        {
          "output_type": "stream",
          "text": [
            "WARNING:tensorflow:Gradients do not exist for variables ['rnn_22/mi_celda_lst_mcon_peepholes_4/Q:0', 'rnn_23/mi_celda_lst_mcon_peepholes_5/Q:0'] when minimizing the loss.\n"
          ],
          "name": "stderr"
        },
        {
          "output_type": "stream",
          "text": [
            "WARNING:tensorflow:Gradients do not exist for variables ['rnn_22/mi_celda_lst_mcon_peepholes_4/Q:0', 'rnn_23/mi_celda_lst_mcon_peepholes_5/Q:0'] when minimizing the loss.\n"
          ],
          "name": "stdout"
        },
        {
          "output_type": "stream",
          "text": [
            "WARNING:tensorflow:Gradients do not exist for variables ['rnn_22/mi_celda_lst_mcon_peepholes_4/Q:0', 'rnn_23/mi_celda_lst_mcon_peepholes_5/Q:0'] when minimizing the loss.\n"
          ],
          "name": "stderr"
        },
        {
          "output_type": "stream",
          "text": [
            "WARNING:tensorflow:Gradients do not exist for variables ['rnn_22/mi_celda_lst_mcon_peepholes_4/Q:0', 'rnn_23/mi_celda_lst_mcon_peepholes_5/Q:0'] when minimizing the loss.\n"
          ],
          "name": "stdout"
        },
        {
          "output_type": "stream",
          "text": [
            "WARNING:tensorflow:Gradients do not exist for variables ['rnn_22/mi_celda_lst_mcon_peepholes_4/Q:0', 'rnn_23/mi_celda_lst_mcon_peepholes_5/Q:0'] when minimizing the loss.\n"
          ],
          "name": "stderr"
        },
        {
          "output_type": "stream",
          "text": [
            "30/30 [==============================] - 8s 255ms/step - loss: 1.9474 - accuracy: 0.2978\n",
            "Epoch 2/3\n",
            "30/30 [==============================] - 7s 234ms/step - loss: 1.3110 - accuracy: 0.5299\n",
            "Epoch 3/3\n",
            "30/30 [==============================] - 8s 250ms/step - loss: 1.0708 - accuracy: 0.6157\n"
          ],
          "name": "stdout"
        },
        {
          "output_type": "execute_result",
          "data": {
            "text/html": [
              "<div>\n",
              "<style scoped>\n",
              "    .dataframe tbody tr th:only-of-type {\n",
              "        vertical-align: middle;\n",
              "    }\n",
              "\n",
              "    .dataframe tbody tr th {\n",
              "        vertical-align: top;\n",
              "    }\n",
              "\n",
              "    .dataframe thead th {\n",
              "        text-align: right;\n",
              "    }\n",
              "</style>\n",
              "<table border=\"1\" class=\"dataframe\">\n",
              "  <thead>\n",
              "    <tr style=\"text-align: right;\">\n",
              "      <th></th>\n",
              "      <th>modelo</th>\n",
              "      <th>num_units</th>\n",
              "      <th>num_epochs</th>\n",
              "      <th>exactitud (accuracy)</th>\n",
              "      <th>exactitud (accuracy) en último paso</th>\n",
              "    </tr>\n",
              "  </thead>\n",
              "  <tbody>\n",
              "    <tr>\n",
              "      <th>0</th>\n",
              "      <td>SimpleRNN, dos capas, many-to-many</td>\n",
              "      <td>128</td>\n",
              "      <td>3</td>\n",
              "      <td>0.775300</td>\n",
              "      <td>0.6475</td>\n",
              "    </tr>\n",
              "    <tr>\n",
              "      <th>1</th>\n",
              "      <td>LSTM, dos capas, many-to-many</td>\n",
              "      <td>128</td>\n",
              "      <td>3</td>\n",
              "      <td>0.596079</td>\n",
              "      <td>0.8602</td>\n",
              "    </tr>\n",
              "    <tr>\n",
              "      <th>2</th>\n",
              "      <td>MiCeldaLSTM, dos capas, many-to-many</td>\n",
              "      <td>128</td>\n",
              "      <td>3</td>\n",
              "      <td>0.603718</td>\n",
              "      <td>0.8692</td>\n",
              "    </tr>\n",
              "    <tr>\n",
              "      <th>3</th>\n",
              "      <td>MiCeldaGRU, dos capas, many-to-many</td>\n",
              "      <td>128</td>\n",
              "      <td>3</td>\n",
              "      <td>0.656743</td>\n",
              "      <td>0.9121</td>\n",
              "    </tr>\n",
              "    <tr>\n",
              "      <th>4</th>\n",
              "      <td>MiCeldaLSTMconPeepholes, dos capas, many-to-many</td>\n",
              "      <td>128</td>\n",
              "      <td>3</td>\n",
              "      <td>0.642639</td>\n",
              "      <td>0.9285</td>\n",
              "    </tr>\n",
              "  </tbody>\n",
              "</table>\n",
              "</div>"
            ],
            "text/plain": [
              "                                             modelo  ... exactitud (accuracy) en último paso\n",
              "0                SimpleRNN, dos capas, many-to-many  ...                              0.6475\n",
              "1                     LSTM, dos capas, many-to-many  ...                              0.8602\n",
              "2              MiCeldaLSTM, dos capas, many-to-many  ...                              0.8692\n",
              "3               MiCeldaGRU, dos capas, many-to-many  ...                              0.9121\n",
              "4  MiCeldaLSTMconPeepholes, dos capas, many-to-many  ...                              0.9285\n",
              "\n",
              "[5 rows x 5 columns]"
            ]
          },
          "metadata": {
            "tags": []
          },
          "execution_count": 36
        }
      ]
    },
    {
      "cell_type": "code",
      "metadata": {
        "id": "t0hFdTD8ZwuY"
      },
      "source": [
        ""
      ],
      "execution_count": null,
      "outputs": []
    }
  ]
}